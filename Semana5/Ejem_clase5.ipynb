{
 "cells": [
  {
   "cell_type": "code",
   "execution_count": 42,
   "metadata": {},
   "outputs": [],
   "source": [
    "import os\n",
    "import numpy as np\n",
    "import pandas as pd\n",
    "import matplotlib.pyplot as plt"
   ]
  },
  {
   "cell_type": "markdown",
   "metadata": {},
   "source": [
    "### Una forma de agrupar variables"
   ]
  },
  {
   "cell_type": "code",
   "execution_count": 43,
   "metadata": {},
   "outputs": [],
   "source": [
    "lluv_arch1='datos/Lluvias/2019/precip/201901010000Lluv.csv'\n",
    "lluv_arch1\n",
    "lluv_arch2='datos/Lluvias/2018/precip/201801010000Lluv.csv'\n",
    "lluvias_en2019 = pd.read_csv(lluv_arch1,encoding='latin-1')\n",
    "lluvias_en2018 = pd.read_csv(lluv_arch2,encoding='latin-1')\n"
   ]
  },
  {
   "cell_type": "code",
   "execution_count": 44,
   "metadata": {},
   "outputs": [
    {
     "name": "stdout",
     "output_type": "stream",
     "text": [
      "Index(['LON', 'LAT', 'EDO', 'CLAVE_SIH', 'NOMBRE', 'ENE'], dtype='object')\n",
      "Index(['LON', 'LAT', 'ESTADO', 'CLAVE_SIH', 'NOMBRE', 'ENE'], dtype='object')\n"
     ]
    }
   ],
   "source": [
    "print(lluvias_en2019.keys())\n",
    "print(lluvias_en2018.keys())"
   ]
  },
  {
   "cell_type": "code",
   "execution_count": 45,
   "metadata": {},
   "outputs": [],
   "source": [
    "lluvias_en2018=lluvias_en2018.rename(columns={\"ESTADO\":\"EDO\"})"
   ]
  },
  {
   "cell_type": "code",
   "execution_count": 46,
   "metadata": {},
   "outputs": [
    {
     "name": "stdout",
     "output_type": "stream",
     "text": [
      "Index(['LON', 'LAT', 'EDO', 'CLAVE_SIH', 'NOMBRE', 'ENE'], dtype='object')\n",
      "Index(['LON', 'LAT', 'EDO', 'CLAVE_SIH', 'NOMBRE', 'ENE'], dtype='object')\n"
     ]
    }
   ],
   "source": [
    "print(lluvias_en2019.keys())\n",
    "print(lluvias_en2018.keys())"
   ]
  },
  {
   "cell_type": "code",
   "execution_count": null,
   "metadata": {},
   "outputs": [],
   "source": []
  },
  {
   "cell_type": "code",
   "execution_count": null,
   "metadata": {},
   "outputs": [],
   "source": []
  },
  {
   "cell_type": "code",
   "execution_count": 47,
   "metadata": {},
   "outputs": [
    {
     "name": "stdout",
     "output_type": "stream",
     "text": [
      "['AGS' 'BC' 'BCS' 'CAMP' 'CHIH' 'CHIS' 'COAH' 'COL' 'DF' 'DGO' 'GRO' 'GTO'\n",
      " 'HGO' 'JAL' 'MEX' 'MICH' 'MOR' 'NAY' 'NL' 'OAX' 'PUE' 'QRO' 'QROO' 'SIN'\n",
      " 'SLP' 'SON' 'TAB' 'TAMS' 'TLAX' 'VER' 'YUC' 'ZAC'] ['AGS' 'BC' 'BCS' 'CAMP' 'CHIH' 'CHIS' 'COAH' 'COL' 'DF' 'DGO' 'GRO' 'GTO'\n",
      " 'HGO' 'JAL' 'MEX' 'MICH' 'MOR' 'NAY' 'NL' 'OAX' 'PUE' 'QRO' 'QROO' 'SIN'\n",
      " 'SLP' 'SON' 'TAB' 'TAMS' 'TLAX' 'VER' 'YUC' 'ZAC']\n",
      "[ True  True  True  True  True  True  True  True  True  True  True  True\n",
      "  True  True  True  True  True  True  True  True  True  True  True  True\n",
      "  True  True  True  True  True  True  True  True]\n",
      "[ True  True  True  True  True  True  True  True  True  True  True  True\n",
      "  True  True  True  True  True  True  True  True  True  True  True  True\n",
      "  True  True  True  True  True  True  True  True]\n"
     ]
    }
   ],
   "source": [
    "edos_2019=np.unique(lluvias_en2019['EDO'])\n",
    "edos_2018=np.unique(lluvias_en2018['EDO'])\n",
    "print(edos_2019, edos_2018)\n",
    "print(edos_2019==edos_2018)\n",
    "print(np.in1d(edos_2019, edos_2019))"
   ]
  },
  {
   "cell_type": "code",
   "execution_count": 48,
   "metadata": {},
   "outputs": [
    {
     "data": {
      "text/plain": [
       "0      6.61\n",
       "1     10.60\n",
       "2     10.50\n",
       "3     18.17\n",
       "4     16.70\n",
       "5     17.30\n",
       "6      9.20\n",
       "7     13.20\n",
       "8      7.20\n",
       "9      6.30\n",
       "10    24.30\n",
       "11     5.51\n",
       "12    15.50\n",
       "13     8.71\n",
       "14    10.40\n",
       "15    11.00\n",
       "16     6.80\n",
       "17     6.00\n",
       "18    11.53\n",
       "19    17.41\n",
       "20     6.00\n",
       "21    11.00\n",
       "22    22.20\n",
       "Name: ENE, dtype: float64"
      ]
     },
     "execution_count": 48,
     "metadata": {},
     "output_type": "execute_result"
    }
   ],
   "source": [
    "w= lluvias_en2019['EDO']== 'AGS'\n",
    "w2= lluvias_en2018['EDO']== 'AGS'\n",
    "\n",
    "lluvias_en2019[w]['ENE']"
   ]
  },
  {
   "cell_type": "code",
   "execution_count": 49,
   "metadata": {},
   "outputs": [],
   "source": [
    "mean2019_edo_ene=[]\n",
    "mean2018_edo_ene=[]\n"
   ]
  },
  {
   "cell_type": "code",
   "execution_count": 53,
   "metadata": {},
   "outputs": [
    {
     "name": "stdout",
     "output_type": "stream",
     "text": [
      "EDO MEAN_2019(ENE) mean_2018(ENE)\n"
     ]
    }
   ],
   "source": [
    "\n",
    "print('EDO', 'MEAN_2019(ENE)', 'mean_2018(ENE)')\n",
    "for edo in edos_2019:\n",
    "    w=lluvias_en2019['EDO']== edo\n",
    "    w2=lluvias_en2018['EDO']== edo\n",
    "    mean2019_edo_ene.append([edo,lluvias_en2019[w]['ENE'].mean()])\n",
    "    mean2018_edo_ene.append([edo,lluvias_en2018[w2]['ENE'].mean()])"
   ]
  },
  {
   "cell_type": "code",
   "execution_count": 36,
   "metadata": {},
   "outputs": [],
   "source": [
    "mean2019_edo_ene=np.asarray(mean2019_edo_ene)\n"
   ]
  },
  {
   "cell_type": "code",
   "execution_count": 37,
   "metadata": {},
   "outputs": [
    {
     "data": {
      "text/plain": [
       "array(['11.832173913043478', '25.490000000000006', '11.754999999999999',\n",
       "       '22.060526315789474', '18.67772727272727', '40.74295774647888',\n",
       "       '5.731481481481483', '2.3363157894736837', '5.908970588235294',\n",
       "       '5.645882352941176', '1.172340425531915', '2.735454545454545',\n",
       "       '13.343809523809522', '8.719272727272726', '4.6706666666666665',\n",
       "       '7.173333333333333', '0.4291111111111111', '0.5825',\n",
       "       '26.570857142857143', '28.508750000000003', '12.75016129032258',\n",
       "       '2.085714285714286', '101.29714285714284', '8.102978723404256',\n",
       "       '29.77318181818182', '19.13021739130435', '132.25318181818182',\n",
       "       '29.566774193548387', '0.565', '46.250612244897965', '35.9608',\n",
       "       '12.00488372093023', '11.832173913043478', '11.832173913043478',\n",
       "       '25.490000000000006', '11.754999999999999', '22.060526315789474',\n",
       "       '18.67772727272727', '40.74295774647888', '5.731481481481483',\n",
       "       '2.3363157894736837', '5.908970588235294', '5.645882352941176',\n",
       "       '1.172340425531915', '2.735454545454545', '13.343809523809522',\n",
       "       '8.719272727272726', '4.6706666666666665', '7.173333333333333',\n",
       "       '0.4291111111111111', '0.5825', '26.570857142857143',\n",
       "       '28.508750000000003', '12.75016129032258', '2.085714285714286',\n",
       "       '101.29714285714284', '8.102978723404256', '29.77318181818182',\n",
       "       '19.13021739130435', '132.25318181818182', '29.566774193548387',\n",
       "       '0.565', '46.250612244897965', '35.9608', '12.00488372093023'],\n",
       "      dtype='<U18')"
      ]
     },
     "execution_count": 37,
     "metadata": {},
     "output_type": "execute_result"
    }
   ],
   "source": [
    "mean2019_edo_ene[:,1]"
   ]
  },
  {
   "cell_type": "code",
   "execution_count": 60,
   "metadata": {},
   "outputs": [
    {
     "name": "stdout",
     "output_type": "stream",
     "text": [
      "AGS ['AGS', 11.832173913043478]\n",
      "BC ['BC', 25.490000000000006]\n",
      "BCS ['BCS', 11.754999999999999]\n",
      "CAMP ['CAMP', 22.060526315789474]\n",
      "CHIH ['CHIH', 18.67772727272727]\n",
      "CHIS ['CHIS', 40.74295774647888]\n",
      "COAH ['COAH', 5.731481481481483]\n",
      "COL ['COL', 2.3363157894736837]\n",
      "DF ['DF', 5.908970588235294]\n",
      "DGO ['DGO', 5.645882352941176]\n",
      "GRO ['GRO', 1.172340425531915]\n",
      "GTO ['GTO', 2.735454545454545]\n",
      "HGO ['HGO', 13.343809523809522]\n",
      "JAL ['JAL', 8.719272727272726]\n",
      "MEX ['MEX', 4.6706666666666665]\n",
      "MICH ['MICH', 7.173333333333333]\n",
      "MOR ['MOR', 0.4291111111111111]\n",
      "NAY ['NAY', 0.5825]\n",
      "NL ['NL', 26.570857142857143]\n",
      "OAX ['OAX', 28.508750000000003]\n",
      "PUE ['PUE', 12.75016129032258]\n",
      "QRO ['QRO', 2.085714285714286]\n",
      "QROO ['QROO', 101.29714285714284]\n",
      "SIN ['SIN', 8.102978723404256]\n",
      "SLP ['SLP', 29.77318181818182]\n",
      "SON ['SON', 19.13021739130435]\n",
      "TAB ['TAB', 132.25318181818182]\n",
      "TAMS ['TAMS', 29.566774193548387]\n",
      "TLAX ['TLAX', 0.565]\n",
      "VER ['VER', 46.250612244897965]\n",
      "YUC ['YUC', 35.9608]\n",
      "ZAC ['ZAC', 12.00488372093023]\n"
     ]
    }
   ],
   "source": [
    "for i in range(len(edos_2019)):\n",
    "               print(edos_2019[i], mean2019_edo_ene[i])\n",
    "               \n",
    "               \n",
    "indx_min=np.where(mean2019_edo_ene== min(mean2019_edo_ene))\n",
    "\n"
   ]
  },
  {
   "cell_type": "code",
   "execution_count": 61,
   "metadata": {},
   "outputs": [],
   "source": [
    "indx_max=np.where(mean2019_edo_ene== max(mean2019_edo_ene))"
   ]
  },
  {
   "cell_type": "code",
   "execution_count": null,
   "metadata": {},
   "outputs": [],
   "source": [
    "print(\"Estado con menor presipitacion promedio\", edos_2019[indx_min])"
   ]
  }
 ],
 "metadata": {
  "kernelspec": {
   "display_name": "Python 3",
   "language": "python",
   "name": "python3"
  },
  "language_info": {
   "codemirror_mode": {
    "name": "ipython",
    "version": 3
   },
   "file_extension": ".py",
   "mimetype": "text/x-python",
   "name": "python",
   "nbconvert_exporter": "python",
   "pygments_lexer": "ipython3",
   "version": "3.7.3"
  }
 },
 "nbformat": 4,
 "nbformat_minor": 4
}
