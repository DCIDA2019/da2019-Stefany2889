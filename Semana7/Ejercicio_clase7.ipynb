{
 "cells": [
  {
   "cell_type": "code",
   "execution_count": 1,
   "metadata": {},
   "outputs": [],
   "source": [
    "import numpy as np\n",
    "import matplotlib.pyplot as plt\n",
    "from pylab import *\n",
    "import os\n",
    "import pandas as pd"
   ]
  },
  {
   "cell_type": "markdown",
   "metadata": {},
   "source": [
    "- Apartir de la recta $ y =3x +2 $ generar 15 puntos y asociar un error aleatorio de 0.2, graficar y guardar en un archivo"
   ]
  },
  {
   "cell_type": "code",
   "execution_count": 2,
   "metadata": {},
   "outputs": [],
   "source": [
    "#Donde definimos\n",
    "a=3\n",
    "b=2\n",
    "sigma=0.2"
   ]
  },
  {
   "cell_type": "code",
   "execution_count": 3,
   "metadata": {},
   "outputs": [],
   "source": [
    "x_i=np.random.uniform(0,2, 15)"
   ]
  },
  {
   "cell_type": "code",
   "execution_count": 4,
   "metadata": {},
   "outputs": [
    {
     "data": {
      "text/plain": [
       "array([1.93905217, 1.09329248, 0.84684417, 1.73138936, 1.8219862 ,\n",
       "       0.10294185, 1.85349555, 0.23220609, 0.92472211, 1.84948832,\n",
       "       0.25837111, 1.67077511, 1.91144381, 0.02600868, 0.82537531])"
      ]
     },
     "execution_count": 4,
     "metadata": {},
     "output_type": "execute_result"
    }
   ],
   "source": [
    "x_i"
   ]
  },
  {
   "cell_type": "code",
   "execution_count": 5,
   "metadata": {},
   "outputs": [],
   "source": [
    "y_i= 3*x_i +2"
   ]
  },
  {
   "cell_type": "code",
   "execution_count": 6,
   "metadata": {},
   "outputs": [
    {
     "data": {
      "text/plain": [
       "array([7.81715651, 5.27987744, 4.5405325 , 7.19416807, 7.4659586 ,\n",
       "       2.30882555, 7.56048666, 2.69661826, 4.77416633, 7.54846496,\n",
       "       2.77511334, 7.01232532, 7.73433143, 2.07802605, 4.47612594])"
      ]
     },
     "execution_count": 6,
     "metadata": {},
     "output_type": "execute_result"
    }
   ],
   "source": [
    "y_i"
   ]
  },
  {
   "cell_type": "code",
   "execution_count": 7,
   "metadata": {},
   "outputs": [
    {
     "data": {
      "text/plain": [
       "<matplotlib.collections.PathCollection at 0x1179e7350>"
      ]
     },
     "execution_count": 7,
     "metadata": {},
     "output_type": "execute_result"
    },
    {
     "data": {
      "image/png": "[encoded data removed]",
      "text/plain": [
       "<Figure size 432x288 with 1 Axes>"
      ]
     },
     "metadata": {
      "needs_background": "light"
     },
     "output_type": "display_data"
    }
   ],
   "source": [
    "plt.scatter(x_i,y_i)"
   ]
  },
  {
   "cell_type": "code",
   "execution_count": 8,
   "metadata": {},
   "outputs": [],
   "source": [
    "err=(sigma/2)*np.random.randn(15)"
   ]
  },
  {
   "cell_type": "code",
   "execution_count": 9,
   "metadata": {},
   "outputs": [
    {
     "data": {
      "text/plain": [
       "array([-0.23522748,  0.06429035, -0.03698448,  0.14823245,  0.18856609,\n",
       "        0.04197808,  0.09128414, -0.12744048, -0.24379178, -0.06562769,\n",
       "        0.05435783,  0.14211586,  0.01520299, -0.09824677, -0.06595325])"
      ]
     },
     "execution_count": 9,
     "metadata": {},
     "output_type": "execute_result"
    }
   ],
   "source": [
    "err"
   ]
  },
  {
   "cell_type": "code",
   "execution_count": 10,
   "metadata": {},
   "outputs": [],
   "source": [
    "y_new= y_i+err"
   ]
  },
  {
   "cell_type": "code",
   "execution_count": 11,
   "metadata": {},
   "outputs": [
    {
     "data": {
      "text/plain": [
       "array([7.58192903, 5.34416778, 4.50354802, 7.34240052, 7.65452469,\n",
       "       2.35080363, 7.6517708 , 2.56917778, 4.53037455, 7.48283727,\n",
       "       2.82947118, 7.15444118, 7.74953442, 1.97977928, 4.41017269])"
      ]
     },
     "execution_count": 11,
     "metadata": {},
     "output_type": "execute_result"
    }
   ],
   "source": [
    "y_new"
   ]
  },
  {
   "cell_type": "code",
   "execution_count": 12,
   "metadata": {},
   "outputs": [
    {
     "data": {
      "text/plain": [
       "[<matplotlib.lines.Line2D at 0x117ae1f50>]"
      ]
     },
     "execution_count": 12,
     "metadata": {},
     "output_type": "execute_result"
    },
    {
     "data": {
      "image/png": "[encoded data removed]",
      "text/plain": [
       "<Figure size 432x288 with 1 Axes>"
      ]
     },
     "metadata": {
      "needs_background": "light"
     },
     "output_type": "display_data"
    }
   ],
   "source": [
    "sigma=0.2\n",
    "plt.errorbar(x_i, y_new, yerr=0.2,  xerr=None, fmt='o')\n",
    "r = np.arange(10.)\n",
    "plot(x_i,y_i,'-')"
   ]
  },
  {
   "cell_type": "code",
   "execution_count": 13,
   "metadata": {},
   "outputs": [],
   "source": [
    "f=open('recta_error.txt', 'r')"
   ]
  },
  {
   "cell_type": "code",
   "execution_count": 14,
   "metadata": {},
   "outputs": [],
   "source": [
    "n= np.array([x_i, y_new, err])"
   ]
  },
  {
   "cell_type": "code",
   "execution_count": 15,
   "metadata": {},
   "outputs": [],
   "source": [
    "n=n.T"
   ]
  },
  {
   "cell_type": "code",
   "execution_count": 16,
   "metadata": {},
   "outputs": [
    {
     "data": {
      "text/plain": [
       "array([[ 1.93905217,  7.58192903, -0.23522748],\n",
       "       [ 1.09329248,  5.34416778,  0.06429035],\n",
       "       [ 0.84684417,  4.50354802, -0.03698448],\n",
       "       [ 1.73138936,  7.34240052,  0.14823245],\n",
       "       [ 1.8219862 ,  7.65452469,  0.18856609],\n",
       "       [ 0.10294185,  2.35080363,  0.04197808],\n",
       "       [ 1.85349555,  7.6517708 ,  0.09128414],\n",
       "       [ 0.23220609,  2.56917778, -0.12744048],\n",
       "       [ 0.92472211,  4.53037455, -0.24379178],\n",
       "       [ 1.84948832,  7.48283727, -0.06562769],\n",
       "       [ 0.25837111,  2.82947118,  0.05435783],\n",
       "       [ 1.67077511,  7.15444118,  0.14211586],\n",
       "       [ 1.91144381,  7.74953442,  0.01520299],\n",
       "       [ 0.02600868,  1.97977928, -0.09824677],\n",
       "       [ 0.82537531,  4.41017269, -0.06595325]])"
      ]
     },
     "execution_count": 16,
     "metadata": {},
     "output_type": "execute_result"
    }
   ],
   "source": [
    "n"
   ]
  },
  {
   "cell_type": "code",
   "execution_count": 17,
   "metadata": {},
   "outputs": [],
   "source": [
    "np.savetxt('recta_error.txt', n, fmt=\"%f\")"
   ]
  },
  {
   "cell_type": "code",
   "execution_count": 18,
   "metadata": {},
   "outputs": [],
   "source": [
    "f=close()"
   ]
  },
  {
   "cell_type": "markdown",
   "metadata": {},
   "source": [
    "- Leer puntos y barras de error desde un archivo "
   ]
  },
  {
   "cell_type": "code",
   "execution_count": 19,
   "metadata": {},
   "outputs": [],
   "source": [
    "f=open('recta_error.txt', 'r')"
   ]
  },
  {
   "cell_type": "code",
   "execution_count": 20,
   "metadata": {},
   "outputs": [],
   "source": [
    "file=pd.read_csv('recta_error.txt',sep='\\s+', header=None)"
   ]
  },
  {
   "cell_type": "code",
   "execution_count": 21,
   "metadata": {},
   "outputs": [
    {
     "data": {
      "text/html": [
       "<div>\n",
       "<style scoped>\n",
       "    .dataframe tbody tr th:only-of-type {\n",
       "        vertical-align: middle;\n",
       "    }\n",
       "\n",
       "    .dataframe tbody tr th {\n",
       "        vertical-align: top;\n",
       "    }\n",
       "\n",
       "    .dataframe thead th {\n",
       "        text-align: right;\n",
       "    }\n",
       "</style>\n",
       "<table border=\"1\" class=\"dataframe\">\n",
       "  <thead>\n",
       "    <tr style=\"text-align: right;\">\n",
       "      <th></th>\n",
       "      <th>0</th>\n",
       "      <th>1</th>\n",
       "      <th>2</th>\n",
       "    </tr>\n",
       "  </thead>\n",
       "  <tbody>\n",
       "    <tr>\n",
       "      <th>0</th>\n",
       "      <td>1.939052</td>\n",
       "      <td>7.581929</td>\n",
       "      <td>-0.235227</td>\n",
       "    </tr>\n",
       "    <tr>\n",
       "      <th>1</th>\n",
       "      <td>1.093292</td>\n",
       "      <td>5.344168</td>\n",
       "      <td>0.064290</td>\n",
       "    </tr>\n",
       "    <tr>\n",
       "      <th>2</th>\n",
       "      <td>0.846844</td>\n",
       "      <td>4.503548</td>\n",
       "      <td>-0.036984</td>\n",
       "    </tr>\n",
       "    <tr>\n",
       "      <th>3</th>\n",
       "      <td>1.731389</td>\n",
       "      <td>7.342401</td>\n",
       "      <td>0.148232</td>\n",
       "    </tr>\n",
       "    <tr>\n",
       "      <th>4</th>\n",
       "      <td>1.821986</td>\n",
       "      <td>7.654525</td>\n",
       "      <td>0.188566</td>\n",
       "    </tr>\n",
       "    <tr>\n",
       "      <th>5</th>\n",
       "      <td>0.102942</td>\n",
       "      <td>2.350804</td>\n",
       "      <td>0.041978</td>\n",
       "    </tr>\n",
       "    <tr>\n",
       "      <th>6</th>\n",
       "      <td>1.853496</td>\n",
       "      <td>7.651771</td>\n",
       "      <td>0.091284</td>\n",
       "    </tr>\n",
       "    <tr>\n",
       "      <th>7</th>\n",
       "      <td>0.232206</td>\n",
       "      <td>2.569178</td>\n",
       "      <td>-0.127440</td>\n",
       "    </tr>\n",
       "    <tr>\n",
       "      <th>8</th>\n",
       "      <td>0.924722</td>\n",
       "      <td>4.530375</td>\n",
       "      <td>-0.243792</td>\n",
       "    </tr>\n",
       "    <tr>\n",
       "      <th>9</th>\n",
       "      <td>1.849488</td>\n",
       "      <td>7.482837</td>\n",
       "      <td>-0.065628</td>\n",
       "    </tr>\n",
       "    <tr>\n",
       "      <th>10</th>\n",
       "      <td>0.258371</td>\n",
       "      <td>2.829471</td>\n",
       "      <td>0.054358</td>\n",
       "    </tr>\n",
       "    <tr>\n",
       "      <th>11</th>\n",
       "      <td>1.670775</td>\n",
       "      <td>7.154441</td>\n",
       "      <td>0.142116</td>\n",
       "    </tr>\n",
       "    <tr>\n",
       "      <th>12</th>\n",
       "      <td>1.911444</td>\n",
       "      <td>7.749534</td>\n",
       "      <td>0.015203</td>\n",
       "    </tr>\n",
       "    <tr>\n",
       "      <th>13</th>\n",
       "      <td>0.026009</td>\n",
       "      <td>1.979779</td>\n",
       "      <td>-0.098247</td>\n",
       "    </tr>\n",
       "    <tr>\n",
       "      <th>14</th>\n",
       "      <td>0.825375</td>\n",
       "      <td>4.410173</td>\n",
       "      <td>-0.065953</td>\n",
       "    </tr>\n",
       "  </tbody>\n",
       "</table>\n",
       "</div>"
      ],
      "text/plain": [
       "           0         1         2\n",
       "0   1.939052  7.581929 -0.235227\n",
       "1   1.093292  5.344168  0.064290\n",
       "2   0.846844  4.503548 -0.036984\n",
       "3   1.731389  7.342401  0.148232\n",
       "4   1.821986  7.654525  0.188566\n",
       "5   0.102942  2.350804  0.041978\n",
       "6   1.853496  7.651771  0.091284\n",
       "7   0.232206  2.569178 -0.127440\n",
       "8   0.924722  4.530375 -0.243792\n",
       "9   1.849488  7.482837 -0.065628\n",
       "10  0.258371  2.829471  0.054358\n",
       "11  1.670775  7.154441  0.142116\n",
       "12  1.911444  7.749534  0.015203\n",
       "13  0.026009  1.979779 -0.098247\n",
       "14  0.825375  4.410173 -0.065953"
      ]
     },
     "execution_count": 21,
     "metadata": {},
     "output_type": "execute_result"
    }
   ],
   "source": [
    "file"
   ]
  },
  {
   "cell_type": "code",
   "execution_count": 22,
   "metadata": {},
   "outputs": [],
   "source": [
    "def line (x,m,b):\n",
    "    return ((m*x)+b)"
   ]
  },
  {
   "cell_type": "code",
   "execution_count": 23,
   "metadata": {},
   "outputs": [],
   "source": [
    "a_0, sigma_a0= 2.9, 0.1\n",
    "b_0, sigma_b0=2.1, 0.1\n"
   ]
  },
  {
   "cell_type": "code",
   "execution_count": 24,
   "metadata": {},
   "outputs": [],
   "source": [
    "a_sample=sigma_a0* np.random.randn(1000)+a_0"
   ]
  },
  {
   "cell_type": "code",
   "execution_count": 27,
   "metadata": {},
   "outputs": [],
   "source": [
    "b_sample=sigma_b0* np.random.randn(1000)+b_0\n"
   ]
  },
  {
   "cell_type": "code",
   "execution_count": 28,
   "metadata": {},
   "outputs": [
    {
     "data": {
      "text/plain": [
       "<matplotlib.legend.Legend at 0x117d90790>"
      ]
     },
     "execution_count": 28,
     "metadata": {},
     "output_type": "execute_result"
    },
    {
     "data": {
      "image/png": "[encoded data removed]",
      "text/plain": [
       "<Figure size 432x288 with 1 Axes>"
      ]
     },
     "metadata": {
      "needs_background": "light"
     },
     "output_type": "display_data"
    }
   ],
   "source": [
    "plt.hist(a_sample, alpha=0.5, label='a_sample')\n",
    "plt.hist(b_sample, alpha=0.5, label='b_sample')\n",
    "plt.axvline(a)\n",
    "plt.axvline(b)\n",
    "plt.legend()"
   ]
  },
  {
   "cell_type": "code",
   "execution_count": 29,
   "metadata": {},
   "outputs": [],
   "source": [
    "#Para la clase, ya que no le estabamos dando un archivo inicial de entrada de los datos originales\n",
    "#El chisq nos da el log del likelihood\n",
    "\n",
    "def chisq(theta, data):\n",
    "    x=x_i      #data[0]\n",
    "    y=y_i       #data[1]\n",
    "    yerr=sigma     #data[2]\n",
    "    #lo siguiente depende del modelo \n",
    "    \n",
    "    model= line(x, theta[0], theta[1])\n",
    "    chisq= (y-model)**2 / yerr**2\n",
    "    return chisq.sum()"
   ]
  },
  {
   "cell_type": "code",
   "execution_count": 30,
   "metadata": {},
   "outputs": [
    {
     "data": {
      "text/plain": [
       "151.9904063425986"
      ]
     },
     "execution_count": 30,
     "metadata": {},
     "output_type": "execute_result"
    }
   ],
   "source": [
    "chisq([2.1,3], [x_i, y_new, err])"
   ]
  },
  {
   "cell_type": "code",
   "execution_count": 31,
   "metadata": {},
   "outputs": [],
   "source": [
    "chisq_=np.zeros_like(a_sample)\n",
    "for i in range(len(a_sample)):\n",
    "    chisq_[i]=chisq((a_sample[i], b_sample[i]), [y_i,x_i, 0.2])\n",
    "    "
   ]
  },
  {
   "cell_type": "code",
   "execution_count": 32,
   "metadata": {},
   "outputs": [],
   "source": [
    "min_chisq=np.min(chisq_)\n",
    "a_best, b_best=a_sample[np.where(chisq_==min_chisq)], b_sample[np.where(chisq_==min_chisq)]"
   ]
  },
  {
   "cell_type": "code",
   "execution_count": 33,
   "metadata": {},
   "outputs": [
    {
     "data": {
      "text/plain": [
       "array([2.99922785])"
      ]
     },
     "execution_count": 33,
     "metadata": {},
     "output_type": "execute_result"
    }
   ],
   "source": [
    "a_best"
   ]
  },
  {
   "cell_type": "code",
   "execution_count": 34,
   "metadata": {},
   "outputs": [
    {
     "data": {
      "text/plain": [
       "array([1.99718471])"
      ]
     },
     "execution_count": 34,
     "metadata": {},
     "output_type": "execute_result"
    }
   ],
   "source": [
    "b_best"
   ]
  },
  {
   "cell_type": "code",
   "execution_count": 35,
   "metadata": {},
   "outputs": [
    {
     "data": {
      "text/plain": [
       "[<matplotlib.lines.Line2D at 0x117de5e10>]"
      ]
     },
     "execution_count": 35,
     "metadata": {},
     "output_type": "execute_result"
    },
    {
     "data": {
      "image/png": "[encoded data removed]",
      "text/plain": [
       "<Figure size 432x288 with 1 Axes>"
      ]
     },
     "metadata": {
      "needs_background": "light"
     },
     "output_type": "display_data"
    }
   ],
   "source": [
    "plot(x_i,y_i,'-')\n",
    "plot(x_i, (a_best*x_i+b_best),'o' )"
   ]
  },
  {
   "cell_type": "code",
   "execution_count": null,
   "metadata": {},
   "outputs": [],
   "source": []
  },
  {
   "cell_type": "code",
   "execution_count": null,
   "metadata": {},
   "outputs": [],
   "source": []
  }
 ],
 "metadata": {
  "kernelspec": {
   "display_name": "Python 3",
   "language": "python",
   "name": "python3"
  },
  "language_info": {
   "codemirror_mode": {
    "name": "ipython",
    "version": 3
   },
   "file_extension": ".py",
   "mimetype": "text/x-python",
   "name": "python",
   "nbconvert_exporter": "python",
   "pygments_lexer": "ipython3",
   "version": "3.7.4"
  }
 },
 "nbformat": 4,
 "nbformat_minor": 4
}
