{
 "cells": [
  {
   "cell_type": "code",
   "execution_count": 153,
   "metadata": {},
   "outputs": [],
   "source": [
    "import numpy as np\n",
    "import matplotlib.pyplot as plt\n",
    "from pylab import *\n",
    "import os\n",
    "import pandas as pd"
   ]
  },
  {
   "cell_type": "markdown",
   "metadata": {},
   "source": [
    "- Usando los datos de la clase para el caso de la recta $ y=3x+2 $ se genera un conjunto de datos de 15 puntos, con un error asociado de 0.2."
   ]
  },
  {
   "cell_type": "code",
   "execution_count": 154,
   "metadata": {},
   "outputs": [],
   "source": [
    "#Definimos los parámetros iniciales\n",
    "\n",
    "a=3\n",
    "b=2\n",
    "sigma=0.2"
   ]
  },
  {
   "cell_type": "code",
   "execution_count": 155,
   "metadata": {},
   "outputs": [],
   "source": [
    "#Generamos los puntos del modelo al que queremos llegar\n",
    "x_i=np.random.uniform(0,2, 15)\n",
    "y_i= 3*x_i +2"
   ]
  },
  {
   "cell_type": "code",
   "execution_count": 156,
   "metadata": {},
   "outputs": [
    {
     "data": {
      "text/plain": [
       "<matplotlib.collections.PathCollection at 0x11892f410>"
      ]
     },
     "execution_count": 156,
     "metadata": {},
     "output_type": "execute_result"
    },
    {
     "data": {
      "image/png": "[encoded data removed]",
      "text/plain": [
       "<Figure size 432x288 with 1 Axes>"
      ]
     },
     "metadata": {
      "needs_background": "light"
     },
     "output_type": "display_data"
    }
   ],
   "source": [
    "plt.scatter(x_i,y_i)"
   ]
  },
  {
   "cell_type": "markdown",
   "metadata": {},
   "source": [
    "A partir de este punto se genera el conjunto de datos que tomaremos como los datos observados con el error asociado"
   ]
  },
  {
   "cell_type": "code",
   "execution_count": 157,
   "metadata": {},
   "outputs": [],
   "source": [
    "err=(sigma/2)*np.random.randn(15)    \n",
    "\n",
    "y_ob= y_i+err\n",
    "x_ob=x_i\n"
   ]
  },
  {
   "cell_type": "code",
   "execution_count": 158,
   "metadata": {},
   "outputs": [
    {
     "data": {
      "text/plain": [
       "<matplotlib.legend.Legend at 0x118a5c290>"
      ]
     },
     "execution_count": 158,
     "metadata": {},
     "output_type": "execute_result"
    },
    {
     "data": {
      "image/png": "[encoded data removed]",
      "text/plain": [
       "<Figure size 432x288 with 1 Axes>"
      ]
     },
     "metadata": {
      "needs_background": "light"
     },
     "output_type": "display_data"
    }
   ],
   "source": [
    "plt.errorbar(x_ob, y_ob, yerr=sigma,  xerr=None, fmt='o', label='data')  #Grafica de los datos observados con su barra de error\n",
    "plot(x_i,y_i,'-', label='model')\n",
    "plt.xlabel('x')\n",
    "plt.ylabel('y')\n",
    "legend()"
   ]
  },
  {
   "cell_type": "code",
   "execution_count": 159,
   "metadata": {},
   "outputs": [],
   "source": [
    "f=open('recta_ob.txt', 'r')"
   ]
  },
  {
   "cell_type": "code",
   "execution_count": 160,
   "metadata": {},
   "outputs": [],
   "source": [
    "n= np.array([x_ob, y_ob, err])\n",
    "n=n.T\n"
   ]
  },
  {
   "cell_type": "code",
   "execution_count": 161,
   "metadata": {},
   "outputs": [
    {
     "data": {
      "text/plain": [
       "array([[ 1.20354292e+00,  5.63322546e+00,  2.25966973e-02],\n",
       "       [ 4.67980623e-01,  3.50479374e+00,  1.00851872e-01],\n",
       "       [ 1.00929298e+00,  5.00449260e+00, -2.33863291e-02],\n",
       "       [ 2.94450536e-01,  2.86989007e+00, -1.34615374e-02],\n",
       "       [ 1.28260301e+00,  5.89256190e+00,  4.47528539e-02],\n",
       "       [ 1.93258693e+00,  7.77033625e+00, -2.74245313e-02],\n",
       "       [ 1.88604117e+00,  7.79538678e+00,  1.37263267e-01],\n",
       "       [ 1.64756998e+00,  6.97257825e+00,  2.98683245e-02],\n",
       "       [ 1.08199167e+00,  5.09236163e+00, -1.53613385e-01],\n",
       "       [ 1.02741604e+00,  5.22823202e+00,  1.45983893e-01],\n",
       "       [ 1.87928350e+00,  7.63614819e+00, -1.70231940e-03],\n",
       "       [ 5.02340021e-01,  3.41709329e+00, -8.99267737e-02],\n",
       "       [ 1.76868211e+00,  7.20542340e+00, -1.00622931e-01],\n",
       "       [ 6.75116326e-01,  4.07391213e+00,  4.85631469e-02],\n",
       "       [ 1.22884256e+00,  5.51486452e+00, -1.71663147e-01]])"
      ]
     },
     "execution_count": 161,
     "metadata": {},
     "output_type": "execute_result"
    }
   ],
   "source": [
    "n"
   ]
  },
  {
   "cell_type": "code",
   "execution_count": 162,
   "metadata": {},
   "outputs": [],
   "source": [
    "np.savetxt('recta_ob.txt', n, fmt=\"%f\")\n",
    "f=close()"
   ]
  },
  {
   "cell_type": "code",
   "execution_count": 163,
   "metadata": {},
   "outputs": [],
   "source": [
    "f=open('recta_error.txt', 'r')"
   ]
  },
  {
   "cell_type": "code",
   "execution_count": 164,
   "metadata": {},
   "outputs": [],
   "source": [
    "file=pd.read_csv('recta_error.txt',sep='\\s+', header=None)"
   ]
  },
  {
   "cell_type": "code",
   "execution_count": 165,
   "metadata": {},
   "outputs": [
    {
     "data": {
      "text/html": [
       "<div>\n",
       "<style scoped>\n",
       "    .dataframe tbody tr th:only-of-type {\n",
       "        vertical-align: middle;\n",
       "    }\n",
       "\n",
       "    .dataframe tbody tr th {\n",
       "        vertical-align: top;\n",
       "    }\n",
       "\n",
       "    .dataframe thead th {\n",
       "        text-align: right;\n",
       "    }\n",
       "</style>\n",
       "<table border=\"1\" class=\"dataframe\">\n",
       "  <thead>\n",
       "    <tr style=\"text-align: right;\">\n",
       "      <th></th>\n",
       "      <th>0</th>\n",
       "      <th>1</th>\n",
       "      <th>2</th>\n",
       "    </tr>\n",
       "  </thead>\n",
       "  <tbody>\n",
       "    <tr>\n",
       "      <th>0</th>\n",
       "      <td>1.572483</td>\n",
       "      <td>6.762863</td>\n",
       "      <td>0.045415</td>\n",
       "    </tr>\n",
       "    <tr>\n",
       "      <th>1</th>\n",
       "      <td>0.936663</td>\n",
       "      <td>4.802501</td>\n",
       "      <td>-0.007487</td>\n",
       "    </tr>\n",
       "    <tr>\n",
       "      <th>2</th>\n",
       "      <td>1.408869</td>\n",
       "      <td>6.280851</td>\n",
       "      <td>0.054244</td>\n",
       "    </tr>\n",
       "    <tr>\n",
       "      <th>3</th>\n",
       "      <td>1.980035</td>\n",
       "      <td>7.917107</td>\n",
       "      <td>-0.022998</td>\n",
       "    </tr>\n",
       "    <tr>\n",
       "      <th>4</th>\n",
       "      <td>1.975584</td>\n",
       "      <td>7.909142</td>\n",
       "      <td>-0.017609</td>\n",
       "    </tr>\n",
       "    <tr>\n",
       "      <th>5</th>\n",
       "      <td>0.549150</td>\n",
       "      <td>3.740753</td>\n",
       "      <td>0.093304</td>\n",
       "    </tr>\n",
       "    <tr>\n",
       "      <th>6</th>\n",
       "      <td>1.800707</td>\n",
       "      <td>7.576230</td>\n",
       "      <td>0.174108</td>\n",
       "    </tr>\n",
       "    <tr>\n",
       "      <th>7</th>\n",
       "      <td>1.742341</td>\n",
       "      <td>7.127373</td>\n",
       "      <td>-0.099651</td>\n",
       "    </tr>\n",
       "    <tr>\n",
       "      <th>8</th>\n",
       "      <td>1.155902</td>\n",
       "      <td>5.489933</td>\n",
       "      <td>0.022226</td>\n",
       "    </tr>\n",
       "    <tr>\n",
       "      <th>9</th>\n",
       "      <td>1.779364</td>\n",
       "      <td>7.223745</td>\n",
       "      <td>-0.114348</td>\n",
       "    </tr>\n",
       "    <tr>\n",
       "      <th>10</th>\n",
       "      <td>1.747103</td>\n",
       "      <td>7.281318</td>\n",
       "      <td>0.040009</td>\n",
       "    </tr>\n",
       "    <tr>\n",
       "      <th>11</th>\n",
       "      <td>0.439972</td>\n",
       "      <td>3.309114</td>\n",
       "      <td>-0.010801</td>\n",
       "    </tr>\n",
       "    <tr>\n",
       "      <th>12</th>\n",
       "      <td>0.691091</td>\n",
       "      <td>3.975748</td>\n",
       "      <td>-0.097526</td>\n",
       "    </tr>\n",
       "    <tr>\n",
       "      <th>13</th>\n",
       "      <td>1.386684</td>\n",
       "      <td>6.210563</td>\n",
       "      <td>0.050511</td>\n",
       "    </tr>\n",
       "    <tr>\n",
       "      <th>14</th>\n",
       "      <td>1.887834</td>\n",
       "      <td>7.750378</td>\n",
       "      <td>0.086876</td>\n",
       "    </tr>\n",
       "  </tbody>\n",
       "</table>\n",
       "</div>"
      ],
      "text/plain": [
       "           0         1         2\n",
       "0   1.572483  6.762863  0.045415\n",
       "1   0.936663  4.802501 -0.007487\n",
       "2   1.408869  6.280851  0.054244\n",
       "3   1.980035  7.917107 -0.022998\n",
       "4   1.975584  7.909142 -0.017609\n",
       "5   0.549150  3.740753  0.093304\n",
       "6   1.800707  7.576230  0.174108\n",
       "7   1.742341  7.127373 -0.099651\n",
       "8   1.155902  5.489933  0.022226\n",
       "9   1.779364  7.223745 -0.114348\n",
       "10  1.747103  7.281318  0.040009\n",
       "11  0.439972  3.309114 -0.010801\n",
       "12  0.691091  3.975748 -0.097526\n",
       "13  1.386684  6.210563  0.050511\n",
       "14  1.887834  7.750378  0.086876"
      ]
     },
     "execution_count": 165,
     "metadata": {},
     "output_type": "execute_result"
    }
   ],
   "source": [
    "file"
   ]
  },
  {
   "cell_type": "markdown",
   "metadata": {},
   "source": [
    "- Donde 0 es el eje x, 1 el eje y, 2 el error asociado "
   ]
  },
  {
   "cell_type": "markdown",
   "metadata": {},
   "source": [
    "Se definen algunas funciones"
   ]
  },
  {
   "cell_type": "code",
   "execution_count": 166,
   "metadata": {},
   "outputs": [],
   "source": [
    "def line (x,m,b):\n",
    "    return ((m*x)+b)"
   ]
  },
  {
   "cell_type": "code",
   "execution_count": 167,
   "metadata": {},
   "outputs": [],
   "source": [
    "\n",
    "def chisq(theta, data):                 #Donde theta son los datos que se generan a aprtir del montecarlo\n",
    "    x= data[0]\n",
    "    y= data[1]\n",
    "    yerr= data[2]\n",
    "    #lo siguiente depende del modelo \n",
    "    \n",
    "    model= line(x, theta[0], theta[1])\n",
    "    chisq= (y-model)**2 / yerr**2\n",
    "    return chisq.sum()"
   ]
  },
  {
   "cell_type": "code",
   "execution_count": 223,
   "metadata": {},
   "outputs": [],
   "source": [
    "def comparacion (chisq_ini, chisq_new):\n",
    "    if chisq_ini > chisq_new:\n",
    "        chisq_ini= chisq_new\n",
    "    elif 1/2*chisq_new < np.random.uniform(0,1):\n",
    "        chisq_ini= chisq_new\n",
    "    else: \n",
    "        chisq_ini= chisq_ini\n",
    "    return chisq_ini"
   ]
  },
  {
   "cell_type": "code",
   "execution_count": 224,
   "metadata": {},
   "outputs": [],
   "source": [
    "def store(a_ini, b_ini, a_new, b_new, chisqr_ini, chisq_store):\n",
    "    \n",
    "    if chisq_store == chisqr_ini:\n",
    "        a_ini=a_ini\n",
    "        b_ini=b_ini\n",
    "    \n",
    "    else:\n",
    "        a_ini=a_new\n",
    "        b_ini=b_new\n",
    "        \n",
    "    return (a_ini, b_ini, chisq_store)"
   ]
  },
  {
   "cell_type": "code",
   "execution_count": 225,
   "metadata": {},
   "outputs": [],
   "source": [
    "def montecarlo(a_ini, b_ini, data, s2, n):\n",
    "    \n",
    "    chisqr_stor=np.zeros(n)\n",
    "    a=np.zeros(n)\n",
    "    b=np.zeros(n)\n",
    "\n",
    "    for i in range(n):\n",
    "    \n",
    "        a[i]=a_ini\n",
    "        b[i]=b_ini\n",
    "    \n",
    "        a_new =s2* np.random.randn()+a_ini\n",
    "        b_new =s2* np.random.randn()+ b_ini   #Se generan los nuevos pares de parámetros\n",
    "    \n",
    "        chisqr_ini=chisq([a_ini,b_ini], data)\n",
    "        chisqr_new=chisq([a_new,b_new], data)\n",
    "    \n",
    "        chisqr_stor[i]= chisqr_ini\n",
    "    \n",
    "        chisq_comp= comparacion(chisqr_ini, chisqr_new)\n",
    "        \n",
    "        if chisq_comp == chisqr_ini:\n",
    "            a_ini=a_ini\n",
    "            b_ini=b_ini\n",
    "            \n",
    "        else:\n",
    "            a_ini=a_new\n",
    "            b_ini=b_new\n",
    "    \n",
    "    \n",
    "    return a, b, chisqr_stor\n",
    "    \n",
    "    \n",
    "\n",
    "\n",
    "        "
   ]
  },
  {
   "cell_type": "markdown",
   "metadata": {},
   "source": [
    "- Se tiene que generar el dato inicial que sera un par ordenado (a,b),\n",
    "- Sabemos de nuestros datos que la recta tiene pendiente positiva (a > 0) y ya que mientras mas grande sea la pendiente màs inclinada es la recta nos limitaremos a un intervalo de (0,20) y que su intersección se encuentra en un intervalo que podemos ver entre (-1 y 5).\n",
    "\n",
    "Así nuestro espacio de parametros será [(0,20), (-1,5)]\n",
    "\n"
   ]
  },
  {
   "cell_type": "code",
   "execution_count": 170,
   "metadata": {},
   "outputs": [],
   "source": [
    "a_ini=np.random.uniform(0,20)\n",
    "b_ini=np.random.uniform(-1,5)"
   ]
  },
  {
   "cell_type": "code",
   "execution_count": 171,
   "metadata": {},
   "outputs": [
    {
     "data": {
      "text/plain": [
       "(15.112711700446535, 2.459903188499469)"
      ]
     },
     "execution_count": 171,
     "metadata": {},
     "output_type": "execute_result"
    }
   ],
   "source": [
    "a_ini, b_ini"
   ]
  },
  {
   "cell_type": "code",
   "execution_count": 172,
   "metadata": {},
   "outputs": [
    {
     "data": {
      "text/plain": [
       "7133557.942499484"
      ]
     },
     "execution_count": 172,
     "metadata": {},
     "output_type": "execute_result"
    }
   ],
   "source": [
    "chisqr_ini=chisq([a_ini,b_ini], file)\n",
    "chisqr_ini"
   ]
  },
  {
   "cell_type": "markdown",
   "metadata": {},
   "source": [
    "## Primer intento a mano\n",
    "Ahora se genera el siguiente punto que se encuentre dentro de la vecindad del primero (< 0.1)"
   ]
  },
  {
   "cell_type": "code",
   "execution_count": 21,
   "metadata": {},
   "outputs": [
    {
     "data": {
      "text/plain": [
       "(19.047190545340058, 0.8148111721492118)"
      ]
     },
     "execution_count": 21,
     "metadata": {},
     "output_type": "execute_result"
    }
   ],
   "source": [
    "a_new=a_ini+ np.random.uniform(0,0.1)\n",
    "b_new = b_ini + np.random.uniform(0,0.1)\n",
    "a_new, b_new"
   ]
  },
  {
   "cell_type": "code",
   "execution_count": 22,
   "metadata": {},
   "outputs": [
    {
     "data": {
      "text/plain": [
       "10448854.175261365"
      ]
     },
     "execution_count": 22,
     "metadata": {},
     "output_type": "execute_result"
    }
   ],
   "source": [
    "chisqr_new=chisq([a_new,b_new], file)\n",
    "chisqr_new"
   ]
  },
  {
   "cell_type": "code",
   "execution_count": 23,
   "metadata": {},
   "outputs": [
    {
     "data": {
      "text/plain": [
       "10382968.01114565"
      ]
     },
     "execution_count": 23,
     "metadata": {},
     "output_type": "execute_result"
    }
   ],
   "source": [
    "#Comparación\n",
    "chisq_store= comparacion(chisqr_ini, chisqr_new)\n",
    "chisq_store\n"
   ]
  },
  {
   "cell_type": "code",
   "execution_count": 219,
   "metadata": {},
   "outputs": [],
   "source": [
    "a=np.random.random(100)"
   ]
  },
  {
   "cell_type": "code",
   "execution_count": 220,
   "metadata": {},
   "outputs": [
    {
     "data": {
      "text/plain": [
       "array([0.62035357, 0.24364528, 0.37926942, 0.63857802, 0.97139271,\n",
       "       0.70391921, 0.11889218, 0.3880911 , 0.30619946, 0.98681514,\n",
       "       0.37959856, 0.56395375, 0.41419169, 0.12945475, 0.78973229,\n",
       "       0.21875372, 0.99926987, 0.54728927, 0.94270744, 0.43356708,\n",
       "       0.70281321, 0.7787847 , 0.60475201, 0.02563209, 0.35956019,\n",
       "       0.55489806, 0.8132096 , 0.78870656, 0.51008886, 0.44309313,\n",
       "       0.18566039, 0.90697856, 0.46766034, 0.87209611, 0.37761328,\n",
       "       0.08505214, 0.98458276, 0.97106835, 0.49031493, 0.32379016,\n",
       "       0.01462284, 0.04636329, 0.10350397, 0.46020363, 0.07546564,\n",
       "       0.07098472, 0.37831338, 0.93419294, 0.60011894, 0.0061327 ,\n",
       "       0.19841075, 0.02355484, 0.42285471, 0.80170156, 0.19564969,\n",
       "       0.89788852, 0.64897042, 0.91537656, 0.37331434, 0.82052847,\n",
       "       0.40556406, 0.64365039, 0.297093  , 0.8285564 , 0.33538661,\n",
       "       0.27524209, 0.28647653, 0.92188341, 0.02232753, 0.18480457,\n",
       "       0.1927994 , 0.10590766, 0.10501673, 0.47907078, 0.73204262,\n",
       "       0.61910486, 0.34178311, 0.28302508, 0.55419057, 0.36586872,\n",
       "       0.95312848, 0.03378089, 0.12785178, 0.58778263, 0.18820668,\n",
       "       0.40820194, 0.07763433, 0.1648406 , 0.3309289 , 0.72700504,\n",
       "       0.47573814, 0.70149739, 0.66177956, 0.90620359, 0.75246419,\n",
       "       0.16801909, 0.15743792, 0.08239494, 0.67953146, 0.57893556])"
      ]
     },
     "execution_count": 220,
     "metadata": {},
     "output_type": "execute_result"
    }
   ],
   "source": [
    "a"
   ]
  },
  {
   "cell_type": "code",
   "execution_count": null,
   "metadata": {},
   "outputs": [],
   "source": []
  },
  {
   "cell_type": "code",
   "execution_count": 226,
   "metadata": {},
   "outputs": [
    {
     "data": {
      "text/plain": [
       "(15.112711700446535, 2.459903188499469, 7133557.942499484)"
      ]
     },
     "execution_count": 226,
     "metadata": {},
     "output_type": "execute_result"
    }
   ],
   "source": [
    "a_ini, b_ini, chisqr_ini"
   ]
  },
  {
   "cell_type": "code",
   "execution_count": 338,
   "metadata": {},
   "outputs": [],
   "source": [
    "param=montecarlo(a_ini, b_ini, file, 0.1, 1000)"
   ]
  },
  {
   "cell_type": "code",
   "execution_count": 339,
   "metadata": {},
   "outputs": [
    {
     "data": {
      "text/plain": [
       "(array([4.8660726 , 4.8660726 , 4.74099789, 4.74099789, 4.61588133,\n",
       "        4.54307611, 4.54307611, 4.69244982, 4.69244982, 4.5656977 ,\n",
       "        4.5656977 , 4.5656977 , 4.47534781, 4.47534781, 4.47534781,\n",
       "        4.43241523, 4.35137799, 4.26557438, 4.26557438, 4.34481701,\n",
       "        4.34481701, 4.34481701, 4.39832726, 4.3811608 , 4.31505293,\n",
       "        4.31505293, 4.31505293, 4.16061865, 4.16061865, 4.16061865,\n",
       "        4.11647853, 4.11647853, 4.07700175, 4.07700175, 4.07700175,\n",
       "        4.1400022 , 4.10412863, 4.04264461, 3.98956101, 4.04671017,\n",
       "        4.04671017, 3.92420837, 3.92420837, 3.92420837, 3.92420837,\n",
       "        3.92420837, 3.84292618, 3.75685587, 3.75685587, 3.75685587,\n",
       "        3.75685587, 3.75685587, 3.71898899, 3.71898899, 3.59893066,\n",
       "        3.59893066, 3.59893066, 3.59893066, 3.59893066, 3.59893066,\n",
       "        3.59893066, 3.59893066, 3.59893066, 3.59893066, 3.59893066,\n",
       "        3.59893066, 3.59893066, 3.59893066, 3.59893066, 3.59893066,\n",
       "        3.6203607 , 3.6203607 , 3.6203607 , 3.6203607 , 3.6203607 ,\n",
       "        3.6203607 , 3.6203607 , 3.6203607 , 3.6203607 , 3.58306806,\n",
       "        3.58306806, 3.58306806, 3.58306806, 3.49158686, 3.54141453,\n",
       "        3.54141453, 3.54742428, 3.54742428, 3.54742428, 3.54742428,\n",
       "        3.54742428, 3.35562083, 3.35562083, 3.35562083, 3.35562083,\n",
       "        3.43835122, 3.43835122, 3.43835122, 3.34793402, 3.20585637,\n",
       "        3.11142342, 3.13463823, 3.13463823, 3.13463823, 3.13463823,\n",
       "        3.13463823, 3.13463823, 3.1139492 , 3.1139492 , 3.1139492 ,\n",
       "        3.1139492 , 3.1139492 , 3.1139492 , 3.1139492 , 3.1139492 ,\n",
       "        3.1139492 , 3.1139492 , 3.03924026, 3.03924026, 3.03924026,\n",
       "        3.03924026, 3.03924026, 3.03924026, 3.03924026, 3.03924026,\n",
       "        3.03924026, 3.03924026, 2.95108299, 2.95108299, 2.95108299,\n",
       "        2.95108299, 2.95108299, 2.95108299, 2.95108299, 2.95108299,\n",
       "        2.95108299, 2.95108299, 2.95108299, 2.95108299, 2.95108299,\n",
       "        2.95108299, 2.95108299, 2.95108299, 2.95108299, 2.95108299,\n",
       "        2.95108299, 2.95108299, 2.95108299, 2.95108299, 2.95108299,\n",
       "        2.95108299, 2.95108299, 2.95108299, 2.95108299, 2.95108299,\n",
       "        2.95108299, 2.9884921 , 2.9884921 , 2.9884921 , 2.9884921 ,\n",
       "        2.9884921 , 2.9884921 , 2.9884921 , 2.9884921 , 2.9884921 ,\n",
       "        2.9884921 , 2.9884921 , 2.9884921 , 2.9884921 , 2.9884921 ,\n",
       "        2.9884921 , 2.9884921 , 2.9884921 , 2.9884921 , 2.9884921 ,\n",
       "        2.9884921 , 2.9884921 , 2.9884921 , 2.9884921 , 2.9884921 ,\n",
       "        2.9884921 , 2.9884921 , 2.9884921 , 2.9884921 , 2.9884921 ,\n",
       "        2.9884921 , 2.9884921 , 2.9884921 , 2.9884921 , 2.9884921 ,\n",
       "        2.9884921 , 2.9884921 , 2.9884921 , 2.9884921 , 2.9884921 ,\n",
       "        2.9884921 , 2.9884921 , 2.9884921 , 2.9884921 , 2.9884921 ,\n",
       "        2.9884921 , 2.9884921 , 2.9884921 , 2.9884921 , 2.9884921 ,\n",
       "        2.9884921 , 2.9884921 , 2.9884921 , 2.9884921 , 2.9884921 ,\n",
       "        2.9884921 , 2.9884921 , 2.9884921 , 2.9884921 , 2.9884921 ,\n",
       "        2.9884921 , 2.9884921 , 2.9884921 , 2.9884921 , 2.9884921 ,\n",
       "        2.9884921 , 2.9884921 , 2.9884921 , 2.9884921 , 2.9884921 ,\n",
       "        2.9884921 , 2.9884921 , 2.9884921 , 2.9884921 , 2.9884921 ,\n",
       "        2.9884921 , 2.9884921 , 2.9884921 , 2.9884921 , 2.9884921 ,\n",
       "        2.9884921 , 2.9884921 , 2.9884921 , 2.9884921 , 2.9884921 ,\n",
       "        2.9884921 , 2.9884921 , 2.9884921 , 2.9884921 , 2.9884921 ,\n",
       "        2.9884921 , 2.9884921 , 2.9884921 , 2.9884921 , 2.9884921 ,\n",
       "        2.9884921 , 2.9884921 , 2.9884921 , 2.9884921 , 2.9884921 ,\n",
       "        2.9884921 , 2.9884921 , 2.9884921 , 2.9884921 , 2.9884921 ,\n",
       "        2.9884921 , 2.9884921 , 2.9884921 , 2.9884921 , 2.9884921 ,\n",
       "        2.9884921 , 2.9884921 , 2.9884921 , 2.9884921 , 2.9884921 ,\n",
       "        2.9884921 , 2.9884921 , 2.9884921 , 2.9884921 , 2.9884921 ,\n",
       "        2.9884921 , 2.9884921 , 2.9884921 , 2.9884921 , 2.9884921 ,\n",
       "        2.9884921 , 2.9884921 , 2.9884921 , 2.9884921 , 2.9884921 ,\n",
       "        2.9884921 , 2.9884921 , 2.9884921 , 2.9884921 , 2.9884921 ,\n",
       "        2.9884921 , 2.9884921 , 2.9884921 , 2.9884921 , 2.9884921 ,\n",
       "        2.9884921 , 2.9884921 , 2.9884921 , 2.9884921 , 2.9884921 ,\n",
       "        2.9884921 , 2.9884921 , 2.9884921 , 2.9884921 , 2.9884921 ,\n",
       "        2.9884921 , 2.9884921 , 2.9884921 , 2.9884921 , 2.9884921 ,\n",
       "        2.9884921 , 2.9884921 , 2.9884921 , 2.9884921 , 2.9884921 ,\n",
       "        2.9884921 , 2.9884921 , 2.9884921 , 2.9884921 , 2.9884921 ,\n",
       "        2.9884921 , 2.9884921 , 2.9884921 , 2.9884921 , 2.9884921 ,\n",
       "        2.9884921 , 2.9884921 , 2.9884921 , 3.01751329, 3.01751329,\n",
       "        3.01751329, 3.01751329, 3.01751329, 3.01751329, 3.01751329,\n",
       "        3.01751329, 3.01751329, 3.01751329, 3.01751329, 3.01751329,\n",
       "        3.01751329, 3.01751329, 3.01751329, 3.01751329, 3.01751329,\n",
       "        3.01751329, 3.01751329, 3.01751329, 3.01751329, 3.01751329,\n",
       "        3.01751329, 3.01751329, 3.01751329, 3.01751329, 3.01751329,\n",
       "        3.01751329, 3.01751329, 3.01751329, 3.01751329, 3.01751329,\n",
       "        3.01751329, 3.01751329, 3.01751329, 3.01751329, 3.01751329,\n",
       "        3.01751329, 3.01751329, 3.01751329, 3.01751329, 3.01751329,\n",
       "        3.01751329, 3.01751329, 3.01751329, 3.01751329, 3.01751329,\n",
       "        3.01751329, 3.01751329, 3.01751329, 3.01751329, 3.01751329,\n",
       "        3.01751329, 3.01751329, 3.01751329, 3.01751329, 3.01751329,\n",
       "        3.01751329, 3.01751329, 3.01751329, 3.01751329, 3.00550402,\n",
       "        3.00550402, 3.00550402, 3.00550402, 3.00550402, 3.00550402,\n",
       "        3.00550402, 3.00550402, 2.99723238, 2.99723238, 2.99723238,\n",
       "        2.99723238, 2.99723238, 2.99723238, 2.99723238, 2.99723238,\n",
       "        2.99723238, 2.99723238, 2.99723238, 2.99723238, 2.99723238,\n",
       "        2.99723238, 2.99723238, 2.99723238, 2.99723238, 2.99723238,\n",
       "        2.99723238, 2.99723238, 2.99723238, 2.99723238, 2.99723238,\n",
       "        2.99723238, 2.99723238, 2.99723238, 2.99723238, 2.99723238,\n",
       "        2.99723238, 2.99723238, 2.99723238, 2.99723238, 2.99723238,\n",
       "        2.99723238, 2.99723238, 2.99723238, 2.99723238, 2.99723238,\n",
       "        2.99723238, 2.99723238, 2.99723238, 2.99723238, 2.99723238,\n",
       "        2.99723238, 2.99723238, 2.99723238, 2.99723238, 2.99723238,\n",
       "        2.99723238, 2.99723238, 2.99723238, 2.99723238, 2.99723238,\n",
       "        2.99723238, 2.99723238, 2.99723238, 2.99723238, 2.99723238,\n",
       "        2.99723238, 2.99723238, 2.99723238, 2.99723238, 2.99723238,\n",
       "        2.99723238, 2.99723238, 2.99723238, 2.99723238, 2.99723238,\n",
       "        2.99723238, 2.99723238, 2.99723238, 2.99723238, 2.99723238,\n",
       "        2.99723238, 2.99723238, 2.99723238, 2.99723238, 2.99723238,\n",
       "        2.99723238, 2.99723238, 2.99723238, 2.99723238, 2.99723238,\n",
       "        2.99723238, 2.99723238, 2.99723238, 2.99723238, 2.99723238,\n",
       "        2.99723238, 2.99723238, 2.99723238, 2.99723238, 2.99723238,\n",
       "        2.99723238, 2.99723238, 2.99723238, 2.99723238, 2.99723238,\n",
       "        2.99723238, 2.99723238, 2.99723238, 2.99723238, 2.99723238,\n",
       "        2.99723238, 2.99723238, 2.99723238, 2.99723238, 2.99723238,\n",
       "        2.99723238, 2.99723238, 2.99723238, 2.99723238, 2.99723238,\n",
       "        2.99723238, 2.99723238, 2.99723238, 2.99723238, 2.99723238,\n",
       "        2.99723238, 2.99723238, 2.99723238, 2.99723238, 2.99723238,\n",
       "        2.99723238, 2.99723238, 2.99723238, 2.99723238, 2.99723238,\n",
       "        2.99723238, 2.99723238, 2.99723238, 2.99723238, 2.99723238,\n",
       "        2.99723238, 2.99723238, 2.99723238, 2.99723238, 2.99723238,\n",
       "        2.99723238, 2.99723238, 2.99723238, 2.99723238, 2.99723238,\n",
       "        2.99723238, 2.99723238, 2.99723238, 2.99723238, 2.99723238,\n",
       "        2.99723238, 2.99723238, 2.99723238, 2.99723238, 2.99723238,\n",
       "        2.99723238, 2.99723238, 2.99723238, 2.99723238, 2.99723238,\n",
       "        2.99723238, 2.99723238, 2.99723238, 2.99723238, 2.99723238,\n",
       "        2.99723238, 2.99723238, 2.99723238, 2.99723238, 2.99723238,\n",
       "        2.99723238, 2.99723238, 2.99723238, 2.99723238, 2.99723238,\n",
       "        2.99723238, 2.99723238, 2.99723238, 2.99723238, 2.99723238,\n",
       "        2.99723238, 2.99723238, 2.99723238, 2.99723238, 2.99723238,\n",
       "        2.99723238, 2.99723238, 2.99723238, 2.99723238, 2.99723238,\n",
       "        2.99723238, 2.99723238, 2.99723238, 2.99723238, 2.99723238,\n",
       "        2.99723238, 2.99723238, 2.99723238, 2.99723238, 2.99723238,\n",
       "        2.99723238, 2.99723238, 2.99723238, 2.99723238, 2.99723238,\n",
       "        2.99723238, 2.99723238, 2.99723238, 2.99723238, 2.99723238,\n",
       "        2.99723238, 2.99723238, 2.99723238, 2.99723238, 2.99723238,\n",
       "        2.99723238, 2.99723238, 2.99723238, 2.99723238, 2.99723238,\n",
       "        2.99723238, 2.99723238, 2.99723238, 2.99723238, 2.99723238,\n",
       "        2.99723238, 2.99723238, 2.99723238, 2.99723238, 2.99723238,\n",
       "        2.99723238, 2.99723238, 2.99723238, 2.99723238, 2.99723238,\n",
       "        2.99723238, 2.99723238, 2.99723238, 2.99723238, 2.99723238,\n",
       "        2.99723238, 2.99723238, 2.99723238, 2.99723238, 2.99723238,\n",
       "        2.99723238, 2.99723238, 2.99723238, 2.99723238, 2.99723238,\n",
       "        2.99723238, 2.99723238, 2.99723238, 2.99723238, 2.99723238,\n",
       "        2.99723238, 2.99723238, 2.99723238, 2.99723238, 2.99723238,\n",
       "        2.99723238, 2.99723238, 2.99723238, 2.99723238, 2.99723238,\n",
       "        2.99723238, 2.99723238, 2.99723238, 2.99723238, 2.99723238,\n",
       "        2.99723238, 2.99723238, 2.99723238, 2.99723238, 2.99723238,\n",
       "        2.99723238, 2.99723238, 2.99723238, 2.99723238, 2.99723238,\n",
       "        2.99723238, 2.99723238, 2.99723238, 2.99723238, 2.99723238,\n",
       "        2.99723238, 2.99723238, 2.99723238, 2.99723238, 2.99723238,\n",
       "        2.99723238, 2.99723238, 2.99723238, 2.99723238, 2.99723238,\n",
       "        2.99723238, 2.99723238, 2.99723238, 2.99723238, 2.99723238,\n",
       "        2.99723238, 2.99723238, 2.99723238, 2.99723238, 2.99723238,\n",
       "        2.99723238, 2.99723238, 2.99723238, 2.99723238, 2.99723238,\n",
       "        2.99723238, 2.99723238, 2.99723238, 2.99723238, 2.99723238,\n",
       "        2.99723238, 2.99723238, 2.99723238, 2.99723238, 2.99723238,\n",
       "        2.99723238, 2.99723238, 2.99723238, 2.99723238, 2.99723238,\n",
       "        2.99723238, 2.99723238, 2.99723238, 2.99723238, 2.99723238,\n",
       "        2.99723238, 2.99723238, 2.99723238, 2.99723238, 2.99723238,\n",
       "        2.99723238, 2.99723238, 2.99723238, 2.99723238, 2.99723238,\n",
       "        2.99723238, 2.99723238, 2.99723238, 2.99723238, 2.99723238,\n",
       "        2.99723238, 2.99723238, 2.99723238, 2.99723238, 2.99723238,\n",
       "        2.99723238, 2.99723238, 2.99723238, 2.99723238, 2.99723238,\n",
       "        2.99723238, 2.99723238, 2.99723238, 2.99723238, 2.99723238,\n",
       "        2.99723238, 2.99723238, 2.99723238, 2.99723238, 2.99723238,\n",
       "        2.99723238, 2.99723238, 2.99723238, 2.99723238, 2.99723238,\n",
       "        2.99723238, 2.99723238, 2.99723238, 2.99723238, 2.99723238,\n",
       "        2.99723238, 2.99723238, 2.99723238, 2.99723238, 2.99723238,\n",
       "        2.99723238, 2.99723238, 2.99723238, 2.99723238, 2.99723238,\n",
       "        2.99723238, 2.99723238, 2.99723238, 2.99723238, 2.99723238,\n",
       "        2.99723238, 2.99723238, 2.99723238, 2.99723238, 2.99723238,\n",
       "        2.99723238, 2.99723238, 2.99723238, 2.99723238, 2.99723238,\n",
       "        2.99723238, 2.99723238, 2.99723238, 2.99723238, 2.99723238,\n",
       "        2.99723238, 2.99723238, 2.99723238, 2.99723238, 2.99723238,\n",
       "        2.99723238, 2.99723238, 2.99723238, 2.99723238, 2.99723238,\n",
       "        2.99723238, 2.99723238, 2.99723238, 2.99723238, 2.99723238,\n",
       "        2.99723238, 2.99723238, 2.99723238, 2.99723238, 2.99723238,\n",
       "        2.99723238, 2.99723238, 2.99723238, 2.99723238, 2.99723238,\n",
       "        2.99723238, 2.99723238, 2.99723238, 2.99723238, 2.99723238,\n",
       "        2.99723238, 2.99723238, 2.99723238, 2.99723238, 2.99723238,\n",
       "        2.99723238, 2.99723238, 2.99723238, 2.99723238, 2.99723238,\n",
       "        2.99723238, 2.99723238, 2.99723238, 2.99723238, 2.99723238,\n",
       "        2.99723238, 2.99723238, 2.99723238, 2.99723238, 2.99723238,\n",
       "        2.99723238, 2.99723238, 2.99723238, 2.99723238, 2.99723238,\n",
       "        2.99723238, 2.99723238, 2.99723238, 2.99723238, 2.99723238,\n",
       "        2.99723238, 2.99723238, 2.99723238, 2.99723238, 2.99723238,\n",
       "        2.99723238, 2.99723238, 2.99723238, 2.99723238, 2.99723238,\n",
       "        2.99723238, 2.99723238, 2.99723238, 2.99723238, 2.99723238,\n",
       "        2.99723238, 2.99723238, 2.99723238, 2.99723238, 2.99723238,\n",
       "        2.99723238, 2.99723238, 2.99723238, 2.99723238, 2.99723238,\n",
       "        2.99723238, 2.99723238, 2.99723238, 2.99723238, 2.99723238,\n",
       "        2.99723238, 2.99723238, 2.99723238, 2.99723238, 2.99723238,\n",
       "        2.99723238, 2.99723238, 2.99723238, 2.99723238, 2.99723238,\n",
       "        2.99723238, 2.99723238, 2.99723238, 2.99723238, 2.99723238,\n",
       "        2.99723238, 2.99723238, 2.99723238, 2.99723238, 2.99723238,\n",
       "        2.99723238, 2.99723238, 2.99723238, 2.99723238, 2.99723238,\n",
       "        2.99723238, 2.99723238, 2.99723238, 2.99723238, 2.99723238,\n",
       "        2.99723238, 2.99723238, 2.99723238, 2.99723238, 2.99723238,\n",
       "        2.99723238, 2.99723238, 2.99723238, 2.99723238, 2.99723238,\n",
       "        2.99723238, 2.99723238, 2.99723238, 2.99723238, 2.99723238,\n",
       "        2.99723238, 2.99723238, 2.99723238, 2.99723238, 2.99723238,\n",
       "        2.99723238, 2.99723238, 2.99723238, 2.99723238, 2.99723238,\n",
       "        2.99723238, 2.99723238, 2.99723238, 2.99723238, 2.99723238,\n",
       "        2.99723238, 2.99723238, 2.99723238, 2.99723238, 2.99723238,\n",
       "        2.99723238, 2.99723238, 2.99723238, 2.99723238, 2.99723238,\n",
       "        2.99723238, 2.99723238, 2.99723238, 2.99723238, 2.99723238,\n",
       "        2.99723238, 2.99723238, 2.99723238, 2.99723238, 2.99723238,\n",
       "        2.99723238, 2.99723238, 2.99723238, 2.99723238, 2.99723238,\n",
       "        2.99723238, 2.99723238, 2.99723238, 2.99723238, 2.99723238,\n",
       "        2.99723238, 2.99723238, 2.99723238, 2.99723238, 2.99723238,\n",
       "        2.99723238, 2.99723238, 2.99723238, 2.99723238, 2.99723238,\n",
       "        2.99723238, 2.99723238, 2.99723238, 2.99723238, 2.99723238,\n",
       "        2.99723238, 2.99723238, 2.99723238, 2.99723238, 2.99723238]),\n",
       " array([2.96124933, 2.96124933, 2.99566643, 2.99566643, 2.8605835 ,\n",
       "        2.85000845, 2.85000845, 2.65594155, 2.65594155, 2.68550876,\n",
       "        2.68550876, 2.68550876, 2.71830183, 2.71830183, 2.71830183,\n",
       "        2.55904435, 2.43993682, 2.47140971, 2.47140971, 2.19822345,\n",
       "        2.19822345, 2.19822345, 2.05565848, 2.067248  , 2.04567685,\n",
       "        2.04567685, 2.04567685, 2.06352013, 2.06352013, 2.06352013,\n",
       "        2.0797647 , 2.0797647 , 1.98928648, 1.98928648, 1.98928648,\n",
       "        1.8601823 , 1.73516656, 1.60849   , 1.44492081, 1.34028535,\n",
       "        1.34028535, 1.3800238 , 1.3800238 , 1.3800238 , 1.3800238 ,\n",
       "        1.3800238 , 1.34915889, 1.32444698, 1.32444698, 1.32444698,\n",
       "        1.32444698, 1.32444698, 1.30585165, 1.30585165, 1.19029208,\n",
       "        1.19029208, 1.19029208, 1.19029208, 1.19029208, 1.19029208,\n",
       "        1.19029208, 1.19029208, 1.19029208, 1.19029208, 1.19029208,\n",
       "        1.19029208, 1.19029208, 1.19029208, 1.19029208, 1.19029208,\n",
       "        1.20606291, 1.20606291, 1.20606291, 1.20606291, 1.20606291,\n",
       "        1.20606291, 1.20606291, 1.20606291, 1.20606291, 1.21940373,\n",
       "        1.21940373, 1.21940373, 1.21940373, 1.3013962 , 1.34594531,\n",
       "        1.34594531, 1.4226938 , 1.4226938 , 1.4226938 , 1.4226938 ,\n",
       "        1.4226938 , 1.48333501, 1.48333501, 1.48333501, 1.48333501,\n",
       "        1.55933605, 1.55933605, 1.55933605, 1.60755529, 1.74572747,\n",
       "        1.82945442, 1.8419747 , 1.8419747 , 1.8419747 , 1.8419747 ,\n",
       "        1.8419747 , 1.8419747 , 1.89574993, 1.89574993, 1.89574993,\n",
       "        1.89574993, 1.89574993, 1.89574993, 1.89574993, 1.89574993,\n",
       "        1.89574993, 1.89574993, 1.98508712, 1.98508712, 1.98508712,\n",
       "        1.98508712, 1.98508712, 1.98508712, 1.98508712, 1.98508712,\n",
       "        1.98508712, 1.98508712, 2.06796172, 2.06796172, 2.06796172,\n",
       "        2.06796172, 2.06796172, 2.06796172, 2.06796172, 2.06796172,\n",
       "        2.06796172, 2.06796172, 2.06796172, 2.06796172, 2.06796172,\n",
       "        2.06796172, 2.06796172, 2.06796172, 2.06796172, 2.06796172,\n",
       "        2.06796172, 2.06796172, 2.06796172, 2.06796172, 2.06796172,\n",
       "        2.06796172, 2.06796172, 2.06796172, 2.06796172, 2.06796172,\n",
       "        2.06796172, 2.01512281, 2.01512281, 2.01512281, 2.01512281,\n",
       "        2.01512281, 2.01512281, 2.01512281, 2.01512281, 2.01512281,\n",
       "        2.01512281, 2.01512281, 2.01512281, 2.01512281, 2.01512281,\n",
       "        2.01512281, 2.01512281, 2.01512281, 2.01512281, 2.01512281,\n",
       "        2.01512281, 2.01512281, 2.01512281, 2.01512281, 2.01512281,\n",
       "        2.01512281, 2.01512281, 2.01512281, 2.01512281, 2.01512281,\n",
       "        2.01512281, 2.01512281, 2.01512281, 2.01512281, 2.01512281,\n",
       "        2.01512281, 2.01512281, 2.01512281, 2.01512281, 2.01512281,\n",
       "        2.01512281, 2.01512281, 2.01512281, 2.01512281, 2.01512281,\n",
       "        2.01512281, 2.01512281, 2.01512281, 2.01512281, 2.01512281,\n",
       "        2.01512281, 2.01512281, 2.01512281, 2.01512281, 2.01512281,\n",
       "        2.01512281, 2.01512281, 2.01512281, 2.01512281, 2.01512281,\n",
       "        2.01512281, 2.01512281, 2.01512281, 2.01512281, 2.01512281,\n",
       "        2.01512281, 2.01512281, 2.01512281, 2.01512281, 2.01512281,\n",
       "        2.01512281, 2.01512281, 2.01512281, 2.01512281, 2.01512281,\n",
       "        2.01512281, 2.01512281, 2.01512281, 2.01512281, 2.01512281,\n",
       "        2.01512281, 2.01512281, 2.01512281, 2.01512281, 2.01512281,\n",
       "        2.01512281, 2.01512281, 2.01512281, 2.01512281, 2.01512281,\n",
       "        2.01512281, 2.01512281, 2.01512281, 2.01512281, 2.01512281,\n",
       "        2.01512281, 2.01512281, 2.01512281, 2.01512281, 2.01512281,\n",
       "        2.01512281, 2.01512281, 2.01512281, 2.01512281, 2.01512281,\n",
       "        2.01512281, 2.01512281, 2.01512281, 2.01512281, 2.01512281,\n",
       "        2.01512281, 2.01512281, 2.01512281, 2.01512281, 2.01512281,\n",
       "        2.01512281, 2.01512281, 2.01512281, 2.01512281, 2.01512281,\n",
       "        2.01512281, 2.01512281, 2.01512281, 2.01512281, 2.01512281,\n",
       "        2.01512281, 2.01512281, 2.01512281, 2.01512281, 2.01512281,\n",
       "        2.01512281, 2.01512281, 2.01512281, 2.01512281, 2.01512281,\n",
       "        2.01512281, 2.01512281, 2.01512281, 2.01512281, 2.01512281,\n",
       "        2.01512281, 2.01512281, 2.01512281, 2.01512281, 2.01512281,\n",
       "        2.01512281, 2.01512281, 2.01512281, 2.01512281, 2.01512281,\n",
       "        2.01512281, 2.01512281, 2.01512281, 2.01512281, 2.01512281,\n",
       "        2.01512281, 2.01512281, 2.01512281, 2.01512281, 2.01512281,\n",
       "        2.01512281, 2.01512281, 2.01512281, 2.01512281, 2.01512281,\n",
       "        2.01512281, 2.01512281, 2.01512281, 2.01512281, 2.01512281,\n",
       "        2.01512281, 2.01512281, 2.01512281, 1.97011592, 1.97011592,\n",
       "        1.97011592, 1.97011592, 1.97011592, 1.97011592, 1.97011592,\n",
       "        1.97011592, 1.97011592, 1.97011592, 1.97011592, 1.97011592,\n",
       "        1.97011592, 1.97011592, 1.97011592, 1.97011592, 1.97011592,\n",
       "        1.97011592, 1.97011592, 1.97011592, 1.97011592, 1.97011592,\n",
       "        1.97011592, 1.97011592, 1.97011592, 1.97011592, 1.97011592,\n",
       "        1.97011592, 1.97011592, 1.97011592, 1.97011592, 1.97011592,\n",
       "        1.97011592, 1.97011592, 1.97011592, 1.97011592, 1.97011592,\n",
       "        1.97011592, 1.97011592, 1.97011592, 1.97011592, 1.97011592,\n",
       "        1.97011592, 1.97011592, 1.97011592, 1.97011592, 1.97011592,\n",
       "        1.97011592, 1.97011592, 1.97011592, 1.97011592, 1.97011592,\n",
       "        1.97011592, 1.97011592, 1.97011592, 1.97011592, 1.97011592,\n",
       "        1.97011592, 1.97011592, 1.97011592, 1.97011592, 1.97999202,\n",
       "        1.97999202, 1.97999202, 1.97999202, 1.97999202, 1.97999202,\n",
       "        1.97999202, 1.97999202, 1.99759269, 1.99759269, 1.99759269,\n",
       "        1.99759269, 1.99759269, 1.99759269, 1.99759269, 1.99759269,\n",
       "        1.99759269, 1.99759269, 1.99759269, 1.99759269, 1.99759269,\n",
       "        1.99759269, 1.99759269, 1.99759269, 1.99759269, 1.99759269,\n",
       "        1.99759269, 1.99759269, 1.99759269, 1.99759269, 1.99759269,\n",
       "        1.99759269, 1.99759269, 1.99759269, 1.99759269, 1.99759269,\n",
       "        1.99759269, 1.99759269, 1.99759269, 1.99759269, 1.99759269,\n",
       "        1.99759269, 1.99759269, 1.99759269, 1.99759269, 1.99759269,\n",
       "        1.99759269, 1.99759269, 1.99759269, 1.99759269, 1.99759269,\n",
       "        1.99759269, 1.99759269, 1.99759269, 1.99759269, 1.99759269,\n",
       "        1.99759269, 1.99759269, 1.99759269, 1.99759269, 1.99759269,\n",
       "        1.99759269, 1.99759269, 1.99759269, 1.99759269, 1.99759269,\n",
       "        1.99759269, 1.99759269, 1.99759269, 1.99759269, 1.99759269,\n",
       "        1.99759269, 1.99759269, 1.99759269, 1.99759269, 1.99759269,\n",
       "        1.99759269, 1.99759269, 1.99759269, 1.99759269, 1.99759269,\n",
       "        1.99759269, 1.99759269, 1.99759269, 1.99759269, 1.99759269,\n",
       "        1.99759269, 1.99759269, 1.99759269, 1.99759269, 1.99759269,\n",
       "        1.99759269, 1.99759269, 1.99759269, 1.99759269, 1.99759269,\n",
       "        1.99759269, 1.99759269, 1.99759269, 1.99759269, 1.99759269,\n",
       "        1.99759269, 1.99759269, 1.99759269, 1.99759269, 1.99759269,\n",
       "        1.99759269, 1.99759269, 1.99759269, 1.99759269, 1.99759269,\n",
       "        1.99759269, 1.99759269, 1.99759269, 1.99759269, 1.99759269,\n",
       "        1.99759269, 1.99759269, 1.99759269, 1.99759269, 1.99759269,\n",
       "        1.99759269, 1.99759269, 1.99759269, 1.99759269, 1.99759269,\n",
       "        1.99759269, 1.99759269, 1.99759269, 1.99759269, 1.99759269,\n",
       "        1.99759269, 1.99759269, 1.99759269, 1.99759269, 1.99759269,\n",
       "        1.99759269, 1.99759269, 1.99759269, 1.99759269, 1.99759269,\n",
       "        1.99759269, 1.99759269, 1.99759269, 1.99759269, 1.99759269,\n",
       "        1.99759269, 1.99759269, 1.99759269, 1.99759269, 1.99759269,\n",
       "        1.99759269, 1.99759269, 1.99759269, 1.99759269, 1.99759269,\n",
       "        1.99759269, 1.99759269, 1.99759269, 1.99759269, 1.99759269,\n",
       "        1.99759269, 1.99759269, 1.99759269, 1.99759269, 1.99759269,\n",
       "        1.99759269, 1.99759269, 1.99759269, 1.99759269, 1.99759269,\n",
       "        1.99759269, 1.99759269, 1.99759269, 1.99759269, 1.99759269,\n",
       "        1.99759269, 1.99759269, 1.99759269, 1.99759269, 1.99759269,\n",
       "        1.99759269, 1.99759269, 1.99759269, 1.99759269, 1.99759269,\n",
       "        1.99759269, 1.99759269, 1.99759269, 1.99759269, 1.99759269,\n",
       "        1.99759269, 1.99759269, 1.99759269, 1.99759269, 1.99759269,\n",
       "        1.99759269, 1.99759269, 1.99759269, 1.99759269, 1.99759269,\n",
       "        1.99759269, 1.99759269, 1.99759269, 1.99759269, 1.99759269,\n",
       "        1.99759269, 1.99759269, 1.99759269, 1.99759269, 1.99759269,\n",
       "        1.99759269, 1.99759269, 1.99759269, 1.99759269, 1.99759269,\n",
       "        1.99759269, 1.99759269, 1.99759269, 1.99759269, 1.99759269,\n",
       "        1.99759269, 1.99759269, 1.99759269, 1.99759269, 1.99759269,\n",
       "        1.99759269, 1.99759269, 1.99759269, 1.99759269, 1.99759269,\n",
       "        1.99759269, 1.99759269, 1.99759269, 1.99759269, 1.99759269,\n",
       "        1.99759269, 1.99759269, 1.99759269, 1.99759269, 1.99759269,\n",
       "        1.99759269, 1.99759269, 1.99759269, 1.99759269, 1.99759269,\n",
       "        1.99759269, 1.99759269, 1.99759269, 1.99759269, 1.99759269,\n",
       "        1.99759269, 1.99759269, 1.99759269, 1.99759269, 1.99759269,\n",
       "        1.99759269, 1.99759269, 1.99759269, 1.99759269, 1.99759269,\n",
       "        1.99759269, 1.99759269, 1.99759269, 1.99759269, 1.99759269,\n",
       "        1.99759269, 1.99759269, 1.99759269, 1.99759269, 1.99759269,\n",
       "        1.99759269, 1.99759269, 1.99759269, 1.99759269, 1.99759269,\n",
       "        1.99759269, 1.99759269, 1.99759269, 1.99759269, 1.99759269,\n",
       "        1.99759269, 1.99759269, 1.99759269, 1.99759269, 1.99759269,\n",
       "        1.99759269, 1.99759269, 1.99759269, 1.99759269, 1.99759269,\n",
       "        1.99759269, 1.99759269, 1.99759269, 1.99759269, 1.99759269,\n",
       "        1.99759269, 1.99759269, 1.99759269, 1.99759269, 1.99759269,\n",
       "        1.99759269, 1.99759269, 1.99759269, 1.99759269, 1.99759269,\n",
       "        1.99759269, 1.99759269, 1.99759269, 1.99759269, 1.99759269,\n",
       "        1.99759269, 1.99759269, 1.99759269, 1.99759269, 1.99759269,\n",
       "        1.99759269, 1.99759269, 1.99759269, 1.99759269, 1.99759269,\n",
       "        1.99759269, 1.99759269, 1.99759269, 1.99759269, 1.99759269,\n",
       "        1.99759269, 1.99759269, 1.99759269, 1.99759269, 1.99759269,\n",
       "        1.99759269, 1.99759269, 1.99759269, 1.99759269, 1.99759269,\n",
       "        1.99759269, 1.99759269, 1.99759269, 1.99759269, 1.99759269,\n",
       "        1.99759269, 1.99759269, 1.99759269, 1.99759269, 1.99759269,\n",
       "        1.99759269, 1.99759269, 1.99759269, 1.99759269, 1.99759269,\n",
       "        1.99759269, 1.99759269, 1.99759269, 1.99759269, 1.99759269,\n",
       "        1.99759269, 1.99759269, 1.99759269, 1.99759269, 1.99759269,\n",
       "        1.99759269, 1.99759269, 1.99759269, 1.99759269, 1.99759269,\n",
       "        1.99759269, 1.99759269, 1.99759269, 1.99759269, 1.99759269,\n",
       "        1.99759269, 1.99759269, 1.99759269, 1.99759269, 1.99759269,\n",
       "        1.99759269, 1.99759269, 1.99759269, 1.99759269, 1.99759269,\n",
       "        1.99759269, 1.99759269, 1.99759269, 1.99759269, 1.99759269,\n",
       "        1.99759269, 1.99759269, 1.99759269, 1.99759269, 1.99759269,\n",
       "        1.99759269, 1.99759269, 1.99759269, 1.99759269, 1.99759269,\n",
       "        1.99759269, 1.99759269, 1.99759269, 1.99759269, 1.99759269,\n",
       "        1.99759269, 1.99759269, 1.99759269, 1.99759269, 1.99759269,\n",
       "        1.99759269, 1.99759269, 1.99759269, 1.99759269, 1.99759269,\n",
       "        1.99759269, 1.99759269, 1.99759269, 1.99759269, 1.99759269,\n",
       "        1.99759269, 1.99759269, 1.99759269, 1.99759269, 1.99759269,\n",
       "        1.99759269, 1.99759269, 1.99759269, 1.99759269, 1.99759269,\n",
       "        1.99759269, 1.99759269, 1.99759269, 1.99759269, 1.99759269,\n",
       "        1.99759269, 1.99759269, 1.99759269, 1.99759269, 1.99759269,\n",
       "        1.99759269, 1.99759269, 1.99759269, 1.99759269, 1.99759269,\n",
       "        1.99759269, 1.99759269, 1.99759269, 1.99759269, 1.99759269,\n",
       "        1.99759269, 1.99759269, 1.99759269, 1.99759269, 1.99759269,\n",
       "        1.99759269, 1.99759269, 1.99759269, 1.99759269, 1.99759269,\n",
       "        1.99759269, 1.99759269, 1.99759269, 1.99759269, 1.99759269,\n",
       "        1.99759269, 1.99759269, 1.99759269, 1.99759269, 1.99759269,\n",
       "        1.99759269, 1.99759269, 1.99759269, 1.99759269, 1.99759269,\n",
       "        1.99759269, 1.99759269, 1.99759269, 1.99759269, 1.99759269,\n",
       "        1.99759269, 1.99759269, 1.99759269, 1.99759269, 1.99759269,\n",
       "        1.99759269, 1.99759269, 1.99759269, 1.99759269, 1.99759269,\n",
       "        1.99759269, 1.99759269, 1.99759269, 1.99759269, 1.99759269,\n",
       "        1.99759269, 1.99759269, 1.99759269, 1.99759269, 1.99759269,\n",
       "        1.99759269, 1.99759269, 1.99759269, 1.99759269, 1.99759269,\n",
       "        1.99759269, 1.99759269, 1.99759269, 1.99759269, 1.99759269,\n",
       "        1.99759269, 1.99759269, 1.99759269, 1.99759269, 1.99759269,\n",
       "        1.99759269, 1.99759269, 1.99759269, 1.99759269, 1.99759269,\n",
       "        1.99759269, 1.99759269, 1.99759269, 1.99759269, 1.99759269,\n",
       "        1.99759269, 1.99759269, 1.99759269, 1.99759269, 1.99759269,\n",
       "        1.99759269, 1.99759269, 1.99759269, 1.99759269, 1.99759269,\n",
       "        1.99759269, 1.99759269, 1.99759269, 1.99759269, 1.99759269,\n",
       "        1.99759269, 1.99759269, 1.99759269, 1.99759269, 1.99759269,\n",
       "        1.99759269, 1.99759269, 1.99759269, 1.99759269, 1.99759269,\n",
       "        1.99759269, 1.99759269, 1.99759269, 1.99759269, 1.99759269,\n",
       "        1.99759269, 1.99759269, 1.99759269, 1.99759269, 1.99759269,\n",
       "        1.99759269, 1.99759269, 1.99759269, 1.99759269, 1.99759269,\n",
       "        1.99759269, 1.99759269, 1.99759269, 1.99759269, 1.99759269,\n",
       "        1.99759269, 1.99759269, 1.99759269, 1.99759269, 1.99759269,\n",
       "        1.99759269, 1.99759269, 1.99759269, 1.99759269, 1.99759269,\n",
       "        1.99759269, 1.99759269, 1.99759269, 1.99759269, 1.99759269,\n",
       "        1.99759269, 1.99759269, 1.99759269, 1.99759269, 1.99759269,\n",
       "        1.99759269, 1.99759269, 1.99759269, 1.99759269, 1.99759269,\n",
       "        1.99759269, 1.99759269, 1.99759269, 1.99759269, 1.99759269,\n",
       "        1.99759269, 1.99759269, 1.99759269, 1.99759269, 1.99759269,\n",
       "        1.99759269, 1.99759269, 1.99759269, 1.99759269, 1.99759269,\n",
       "        1.99759269, 1.99759269, 1.99759269, 1.99759269, 1.99759269]),\n",
       " array([3.24839083e+05, 3.24839083e+05, 3.02172769e+05, 3.02172769e+05,\n",
       "        2.48763095e+05, 2.31781576e+05, 2.31781576e+05, 2.28631928e+05,\n",
       "        2.28631928e+05, 2.08430259e+05, 2.08430259e+05, 2.08430259e+05,\n",
       "        1.96500956e+05, 1.96500956e+05, 1.96500956e+05, 1.64455661e+05,\n",
       "        1.34692115e+05, 1.25581563e+05, 1.25581563e+05, 1.04253432e+05,\n",
       "        1.04253432e+05, 1.04253432e+05, 9.58279787e+04, 9.47949067e+04,\n",
       "        8.41183890e+04, 8.41183890e+04, 8.41183890e+04, 6.76421742e+04,\n",
       "        6.76421742e+04, 6.76421742e+04, 6.42380975e+04, 6.42380975e+04,\n",
       "        5.26436486e+04, 5.26436486e+04, 5.26436486e+04, 4.88922924e+04,\n",
       "        3.72362100e+04, 2.56441574e+04, 1.58726200e+04, 1.54173985e+04,\n",
       "        1.54173985e+04, 1.11081951e+04, 1.11081951e+04, 1.11081951e+04,\n",
       "        1.11081951e+04, 1.11081951e+04, 7.68654404e+03, 5.25204923e+03,\n",
       "        5.25204923e+03, 5.25204923e+03, 5.25204923e+03, 5.25204923e+03,\n",
       "        4.48240570e+03, 4.48240570e+03, 4.43404163e+03, 4.43404163e+03,\n",
       "        4.43404163e+03, 4.43404163e+03, 4.43404163e+03, 4.43404163e+03,\n",
       "        4.43404163e+03, 4.43404163e+03, 4.43404163e+03, 4.43404163e+03,\n",
       "        4.43404163e+03, 4.43404163e+03, 4.43404163e+03, 4.43404163e+03,\n",
       "        4.43404163e+03, 4.43404163e+03, 4.18091096e+03, 4.18091096e+03,\n",
       "        4.18091096e+03, 4.18091096e+03, 4.18091096e+03, 4.18091096e+03,\n",
       "        4.18091096e+03, 4.18091096e+03, 4.18091096e+03, 4.09796401e+03,\n",
       "        4.09796401e+03, 4.09796401e+03, 4.09796401e+03, 3.40801301e+03,\n",
       "        2.85065929e+03, 2.85065929e+03, 2.56992772e+03, 2.56992772e+03,\n",
       "        2.56992772e+03, 2.56992772e+03, 2.56992772e+03, 1.88816686e+03,\n",
       "        1.88816686e+03, 1.88816686e+03, 1.88816686e+03, 1.64854494e+03,\n",
       "        1.64854494e+03, 1.64854494e+03, 1.07796026e+03, 4.25443768e+02,\n",
       "        2.12506330e+02, 1.73131868e+02, 1.73131868e+02, 1.73131868e+02,\n",
       "        1.73131868e+02, 1.73131868e+02, 1.73131868e+02, 1.31608698e+02,\n",
       "        1.31608698e+02, 1.31608698e+02, 1.31608698e+02, 1.31608698e+02,\n",
       "        1.31608698e+02, 1.31608698e+02, 1.31608698e+02, 1.31608698e+02,\n",
       "        1.31608698e+02, 5.91067672e+01, 5.91067672e+01, 5.91067672e+01,\n",
       "        5.91067672e+01, 5.91067672e+01, 5.91067672e+01, 5.91067672e+01,\n",
       "        5.91067672e+01, 5.91067672e+01, 5.91067672e+01, 5.63751968e+01,\n",
       "        5.63751968e+01, 5.63751968e+01, 5.63751968e+01, 5.63751968e+01,\n",
       "        5.63751968e+01, 5.63751968e+01, 5.63751968e+01, 5.63751968e+01,\n",
       "        5.63751968e+01, 5.63751968e+01, 5.63751968e+01, 5.63751968e+01,\n",
       "        5.63751968e+01, 5.63751968e+01, 5.63751968e+01, 5.63751968e+01,\n",
       "        5.63751968e+01, 5.63751968e+01, 5.63751968e+01, 5.63751968e+01,\n",
       "        5.63751968e+01, 5.63751968e+01, 5.63751968e+01, 5.63751968e+01,\n",
       "        5.63751968e+01, 5.63751968e+01, 5.63751968e+01, 5.63751968e+01,\n",
       "        1.83193240e+01, 1.83193240e+01, 1.83193240e+01, 1.83193240e+01,\n",
       "        1.83193240e+01, 1.83193240e+01, 1.83193240e+01, 1.83193240e+01,\n",
       "        1.83193240e+01, 1.83193240e+01, 1.83193240e+01, 1.83193240e+01,\n",
       "        1.83193240e+01, 1.83193240e+01, 1.83193240e+01, 1.83193240e+01,\n",
       "        1.83193240e+01, 1.83193240e+01, 1.83193240e+01, 1.83193240e+01,\n",
       "        1.83193240e+01, 1.83193240e+01, 1.83193240e+01, 1.83193240e+01,\n",
       "        1.83193240e+01, 1.83193240e+01, 1.83193240e+01, 1.83193240e+01,\n",
       "        1.83193240e+01, 1.83193240e+01, 1.83193240e+01, 1.83193240e+01,\n",
       "        1.83193240e+01, 1.83193240e+01, 1.83193240e+01, 1.83193240e+01,\n",
       "        1.83193240e+01, 1.83193240e+01, 1.83193240e+01, 1.83193240e+01,\n",
       "        1.83193240e+01, 1.83193240e+01, 1.83193240e+01, 1.83193240e+01,\n",
       "        1.83193240e+01, 1.83193240e+01, 1.83193240e+01, 1.83193240e+01,\n",
       "        1.83193240e+01, 1.83193240e+01, 1.83193240e+01, 1.83193240e+01,\n",
       "        1.83193240e+01, 1.83193240e+01, 1.83193240e+01, 1.83193240e+01,\n",
       "        1.83193240e+01, 1.83193240e+01, 1.83193240e+01, 1.83193240e+01,\n",
       "        1.83193240e+01, 1.83193240e+01, 1.83193240e+01, 1.83193240e+01,\n",
       "        1.83193240e+01, 1.83193240e+01, 1.83193240e+01, 1.83193240e+01,\n",
       "        1.83193240e+01, 1.83193240e+01, 1.83193240e+01, 1.83193240e+01,\n",
       "        1.83193240e+01, 1.83193240e+01, 1.83193240e+01, 1.83193240e+01,\n",
       "        1.83193240e+01, 1.83193240e+01, 1.83193240e+01, 1.83193240e+01,\n",
       "        1.83193240e+01, 1.83193240e+01, 1.83193240e+01, 1.83193240e+01,\n",
       "        1.83193240e+01, 1.83193240e+01, 1.83193240e+01, 1.83193240e+01,\n",
       "        1.83193240e+01, 1.83193240e+01, 1.83193240e+01, 1.83193240e+01,\n",
       "        1.83193240e+01, 1.83193240e+01, 1.83193240e+01, 1.83193240e+01,\n",
       "        1.83193240e+01, 1.83193240e+01, 1.83193240e+01, 1.83193240e+01,\n",
       "        1.83193240e+01, 1.83193240e+01, 1.83193240e+01, 1.83193240e+01,\n",
       "        1.83193240e+01, 1.83193240e+01, 1.83193240e+01, 1.83193240e+01,\n",
       "        1.83193240e+01, 1.83193240e+01, 1.83193240e+01, 1.83193240e+01,\n",
       "        1.83193240e+01, 1.83193240e+01, 1.83193240e+01, 1.83193240e+01,\n",
       "        1.83193240e+01, 1.83193240e+01, 1.83193240e+01, 1.83193240e+01,\n",
       "        1.83193240e+01, 1.83193240e+01, 1.83193240e+01, 1.83193240e+01,\n",
       "        1.83193240e+01, 1.83193240e+01, 1.83193240e+01, 1.83193240e+01,\n",
       "        1.83193240e+01, 1.83193240e+01, 1.83193240e+01, 1.83193240e+01,\n",
       "        1.83193240e+01, 1.83193240e+01, 1.83193240e+01, 1.83193240e+01,\n",
       "        1.83193240e+01, 1.83193240e+01, 1.83193240e+01, 1.83193240e+01,\n",
       "        1.83193240e+01, 1.83193240e+01, 1.83193240e+01, 1.83193240e+01,\n",
       "        1.83193240e+01, 1.83193240e+01, 1.83193240e+01, 1.83193240e+01,\n",
       "        1.83193240e+01, 1.83193240e+01, 1.83193240e+01, 1.83193240e+01,\n",
       "        1.83193240e+01, 1.83193240e+01, 1.83193240e+01, 1.83193240e+01,\n",
       "        1.83193240e+01, 1.83193240e+01, 1.83193240e+01, 1.83193240e+01,\n",
       "        1.83193240e+01, 1.83193240e+01, 1.83193240e+01, 1.83193240e+01,\n",
       "        1.83193240e+01, 1.83193240e+01, 1.83193240e+01, 1.83193240e+01,\n",
       "        1.83193240e+01, 1.83193240e+01, 1.83193240e+01, 1.83193240e+01,\n",
       "        1.74737228e+01, 1.74737228e+01, 1.74737228e+01, 1.74737228e+01,\n",
       "        1.74737228e+01, 1.74737228e+01, 1.74737228e+01, 1.74737228e+01,\n",
       "        1.74737228e+01, 1.74737228e+01, 1.74737228e+01, 1.74737228e+01,\n",
       "        1.74737228e+01, 1.74737228e+01, 1.74737228e+01, 1.74737228e+01,\n",
       "        1.74737228e+01, 1.74737228e+01, 1.74737228e+01, 1.74737228e+01,\n",
       "        1.74737228e+01, 1.74737228e+01, 1.74737228e+01, 1.74737228e+01,\n",
       "        1.74737228e+01, 1.74737228e+01, 1.74737228e+01, 1.74737228e+01,\n",
       "        1.74737228e+01, 1.74737228e+01, 1.74737228e+01, 1.74737228e+01,\n",
       "        1.74737228e+01, 1.74737228e+01, 1.74737228e+01, 1.74737228e+01,\n",
       "        1.74737228e+01, 1.74737228e+01, 1.74737228e+01, 1.74737228e+01,\n",
       "        1.74737228e+01, 1.74737228e+01, 1.74737228e+01, 1.74737228e+01,\n",
       "        1.74737228e+01, 1.74737228e+01, 1.74737228e+01, 1.74737228e+01,\n",
       "        1.74737228e+01, 1.74737228e+01, 1.74737228e+01, 1.74737228e+01,\n",
       "        1.74737228e+01, 1.74737228e+01, 1.74737228e+01, 1.74737228e+01,\n",
       "        1.74737228e+01, 1.74737228e+01, 1.74737228e+01, 1.74737228e+01,\n",
       "        1.74737228e+01, 1.68423145e+01, 1.68423145e+01, 1.68423145e+01,\n",
       "        1.68423145e+01, 1.68423145e+01, 1.68423145e+01, 1.68423145e+01,\n",
       "        1.68423145e+01, 1.40861827e+01, 1.40861827e+01, 1.40861827e+01,\n",
       "        1.40861827e+01, 1.40861827e+01, 1.40861827e+01, 1.40861827e+01,\n",
       "        1.40861827e+01, 1.40861827e+01, 1.40861827e+01, 1.40861827e+01,\n",
       "        1.40861827e+01, 1.40861827e+01, 1.40861827e+01, 1.40861827e+01,\n",
       "        1.40861827e+01, 1.40861827e+01, 1.40861827e+01, 1.40861827e+01,\n",
       "        1.40861827e+01, 1.40861827e+01, 1.40861827e+01, 1.40861827e+01,\n",
       "        1.40861827e+01, 1.40861827e+01, 1.40861827e+01, 1.40861827e+01,\n",
       "        1.40861827e+01, 1.40861827e+01, 1.40861827e+01, 1.40861827e+01,\n",
       "        1.40861827e+01, 1.40861827e+01, 1.40861827e+01, 1.40861827e+01,\n",
       "        1.40861827e+01, 1.40861827e+01, 1.40861827e+01, 1.40861827e+01,\n",
       "        1.40861827e+01, 1.40861827e+01, 1.40861827e+01, 1.40861827e+01,\n",
       "        1.40861827e+01, 1.40861827e+01, 1.40861827e+01, 1.40861827e+01,\n",
       "        1.40861827e+01, 1.40861827e+01, 1.40861827e+01, 1.40861827e+01,\n",
       "        1.40861827e+01, 1.40861827e+01, 1.40861827e+01, 1.40861827e+01,\n",
       "        1.40861827e+01, 1.40861827e+01, 1.40861827e+01, 1.40861827e+01,\n",
       "        1.40861827e+01, 1.40861827e+01, 1.40861827e+01, 1.40861827e+01,\n",
       "        1.40861827e+01, 1.40861827e+01, 1.40861827e+01, 1.40861827e+01,\n",
       "        1.40861827e+01, 1.40861827e+01, 1.40861827e+01, 1.40861827e+01,\n",
       "        1.40861827e+01, 1.40861827e+01, 1.40861827e+01, 1.40861827e+01,\n",
       "        1.40861827e+01, 1.40861827e+01, 1.40861827e+01, 1.40861827e+01,\n",
       "        1.40861827e+01, 1.40861827e+01, 1.40861827e+01, 1.40861827e+01,\n",
       "        1.40861827e+01, 1.40861827e+01, 1.40861827e+01, 1.40861827e+01,\n",
       "        1.40861827e+01, 1.40861827e+01, 1.40861827e+01, 1.40861827e+01,\n",
       "        1.40861827e+01, 1.40861827e+01, 1.40861827e+01, 1.40861827e+01,\n",
       "        1.40861827e+01, 1.40861827e+01, 1.40861827e+01, 1.40861827e+01,\n",
       "        1.40861827e+01, 1.40861827e+01, 1.40861827e+01, 1.40861827e+01,\n",
       "        1.40861827e+01, 1.40861827e+01, 1.40861827e+01, 1.40861827e+01,\n",
       "        1.40861827e+01, 1.40861827e+01, 1.40861827e+01, 1.40861827e+01,\n",
       "        1.40861827e+01, 1.40861827e+01, 1.40861827e+01, 1.40861827e+01,\n",
       "        1.40861827e+01, 1.40861827e+01, 1.40861827e+01, 1.40861827e+01,\n",
       "        1.40861827e+01, 1.40861827e+01, 1.40861827e+01, 1.40861827e+01,\n",
       "        1.40861827e+01, 1.40861827e+01, 1.40861827e+01, 1.40861827e+01,\n",
       "        1.40861827e+01, 1.40861827e+01, 1.40861827e+01, 1.40861827e+01,\n",
       "        1.40861827e+01, 1.40861827e+01, 1.40861827e+01, 1.40861827e+01,\n",
       "        1.40861827e+01, 1.40861827e+01, 1.40861827e+01, 1.40861827e+01,\n",
       "        1.40861827e+01, 1.40861827e+01, 1.40861827e+01, 1.40861827e+01,\n",
       "        1.40861827e+01, 1.40861827e+01, 1.40861827e+01, 1.40861827e+01,\n",
       "        1.40861827e+01, 1.40861827e+01, 1.40861827e+01, 1.40861827e+01,\n",
       "        1.40861827e+01, 1.40861827e+01, 1.40861827e+01, 1.40861827e+01,\n",
       "        1.40861827e+01, 1.40861827e+01, 1.40861827e+01, 1.40861827e+01,\n",
       "        1.40861827e+01, 1.40861827e+01, 1.40861827e+01, 1.40861827e+01,\n",
       "        1.40861827e+01, 1.40861827e+01, 1.40861827e+01, 1.40861827e+01,\n",
       "        1.40861827e+01, 1.40861827e+01, 1.40861827e+01, 1.40861827e+01,\n",
       "        1.40861827e+01, 1.40861827e+01, 1.40861827e+01, 1.40861827e+01,\n",
       "        1.40861827e+01, 1.40861827e+01, 1.40861827e+01, 1.40861827e+01,\n",
       "        1.40861827e+01, 1.40861827e+01, 1.40861827e+01, 1.40861827e+01,\n",
       "        1.40861827e+01, 1.40861827e+01, 1.40861827e+01, 1.40861827e+01,\n",
       "        1.40861827e+01, 1.40861827e+01, 1.40861827e+01, 1.40861827e+01,\n",
       "        1.40861827e+01, 1.40861827e+01, 1.40861827e+01, 1.40861827e+01,\n",
       "        1.40861827e+01, 1.40861827e+01, 1.40861827e+01, 1.40861827e+01,\n",
       "        1.40861827e+01, 1.40861827e+01, 1.40861827e+01, 1.40861827e+01,\n",
       "        1.40861827e+01, 1.40861827e+01, 1.40861827e+01, 1.40861827e+01,\n",
       "        1.40861827e+01, 1.40861827e+01, 1.40861827e+01, 1.40861827e+01,\n",
       "        1.40861827e+01, 1.40861827e+01, 1.40861827e+01, 1.40861827e+01,\n",
       "        1.40861827e+01, 1.40861827e+01, 1.40861827e+01, 1.40861827e+01,\n",
       "        1.40861827e+01, 1.40861827e+01, 1.40861827e+01, 1.40861827e+01,\n",
       "        1.40861827e+01, 1.40861827e+01, 1.40861827e+01, 1.40861827e+01,\n",
       "        1.40861827e+01, 1.40861827e+01, 1.40861827e+01, 1.40861827e+01,\n",
       "        1.40861827e+01, 1.40861827e+01, 1.40861827e+01, 1.40861827e+01,\n",
       "        1.40861827e+01, 1.40861827e+01, 1.40861827e+01, 1.40861827e+01,\n",
       "        1.40861827e+01, 1.40861827e+01, 1.40861827e+01, 1.40861827e+01,\n",
       "        1.40861827e+01, 1.40861827e+01, 1.40861827e+01, 1.40861827e+01,\n",
       "        1.40861827e+01, 1.40861827e+01, 1.40861827e+01, 1.40861827e+01,\n",
       "        1.40861827e+01, 1.40861827e+01, 1.40861827e+01, 1.40861827e+01,\n",
       "        1.40861827e+01, 1.40861827e+01, 1.40861827e+01, 1.40861827e+01,\n",
       "        1.40861827e+01, 1.40861827e+01, 1.40861827e+01, 1.40861827e+01,\n",
       "        1.40861827e+01, 1.40861827e+01, 1.40861827e+01, 1.40861827e+01,\n",
       "        1.40861827e+01, 1.40861827e+01, 1.40861827e+01, 1.40861827e+01,\n",
       "        1.40861827e+01, 1.40861827e+01, 1.40861827e+01, 1.40861827e+01,\n",
       "        1.40861827e+01, 1.40861827e+01, 1.40861827e+01, 1.40861827e+01,\n",
       "        1.40861827e+01, 1.40861827e+01, 1.40861827e+01, 1.40861827e+01,\n",
       "        1.40861827e+01, 1.40861827e+01, 1.40861827e+01, 1.40861827e+01,\n",
       "        1.40861827e+01, 1.40861827e+01, 1.40861827e+01, 1.40861827e+01,\n",
       "        1.40861827e+01, 1.40861827e+01, 1.40861827e+01, 1.40861827e+01,\n",
       "        1.40861827e+01, 1.40861827e+01, 1.40861827e+01, 1.40861827e+01,\n",
       "        1.40861827e+01, 1.40861827e+01, 1.40861827e+01, 1.40861827e+01,\n",
       "        1.40861827e+01, 1.40861827e+01, 1.40861827e+01, 1.40861827e+01,\n",
       "        1.40861827e+01, 1.40861827e+01, 1.40861827e+01, 1.40861827e+01,\n",
       "        1.40861827e+01, 1.40861827e+01, 1.40861827e+01, 1.40861827e+01,\n",
       "        1.40861827e+01, 1.40861827e+01, 1.40861827e+01, 1.40861827e+01,\n",
       "        1.40861827e+01, 1.40861827e+01, 1.40861827e+01, 1.40861827e+01,\n",
       "        1.40861827e+01, 1.40861827e+01, 1.40861827e+01, 1.40861827e+01,\n",
       "        1.40861827e+01, 1.40861827e+01, 1.40861827e+01, 1.40861827e+01,\n",
       "        1.40861827e+01, 1.40861827e+01, 1.40861827e+01, 1.40861827e+01,\n",
       "        1.40861827e+01, 1.40861827e+01, 1.40861827e+01, 1.40861827e+01,\n",
       "        1.40861827e+01, 1.40861827e+01, 1.40861827e+01, 1.40861827e+01,\n",
       "        1.40861827e+01, 1.40861827e+01, 1.40861827e+01, 1.40861827e+01,\n",
       "        1.40861827e+01, 1.40861827e+01, 1.40861827e+01, 1.40861827e+01,\n",
       "        1.40861827e+01, 1.40861827e+01, 1.40861827e+01, 1.40861827e+01,\n",
       "        1.40861827e+01, 1.40861827e+01, 1.40861827e+01, 1.40861827e+01,\n",
       "        1.40861827e+01, 1.40861827e+01, 1.40861827e+01, 1.40861827e+01,\n",
       "        1.40861827e+01, 1.40861827e+01, 1.40861827e+01, 1.40861827e+01,\n",
       "        1.40861827e+01, 1.40861827e+01, 1.40861827e+01, 1.40861827e+01,\n",
       "        1.40861827e+01, 1.40861827e+01, 1.40861827e+01, 1.40861827e+01,\n",
       "        1.40861827e+01, 1.40861827e+01, 1.40861827e+01, 1.40861827e+01,\n",
       "        1.40861827e+01, 1.40861827e+01, 1.40861827e+01, 1.40861827e+01,\n",
       "        1.40861827e+01, 1.40861827e+01, 1.40861827e+01, 1.40861827e+01,\n",
       "        1.40861827e+01, 1.40861827e+01, 1.40861827e+01, 1.40861827e+01,\n",
       "        1.40861827e+01, 1.40861827e+01, 1.40861827e+01, 1.40861827e+01,\n",
       "        1.40861827e+01, 1.40861827e+01, 1.40861827e+01, 1.40861827e+01,\n",
       "        1.40861827e+01, 1.40861827e+01, 1.40861827e+01, 1.40861827e+01,\n",
       "        1.40861827e+01, 1.40861827e+01, 1.40861827e+01, 1.40861827e+01,\n",
       "        1.40861827e+01, 1.40861827e+01, 1.40861827e+01, 1.40861827e+01,\n",
       "        1.40861827e+01, 1.40861827e+01, 1.40861827e+01, 1.40861827e+01,\n",
       "        1.40861827e+01, 1.40861827e+01, 1.40861827e+01, 1.40861827e+01,\n",
       "        1.40861827e+01, 1.40861827e+01, 1.40861827e+01, 1.40861827e+01,\n",
       "        1.40861827e+01, 1.40861827e+01, 1.40861827e+01, 1.40861827e+01,\n",
       "        1.40861827e+01, 1.40861827e+01, 1.40861827e+01, 1.40861827e+01,\n",
       "        1.40861827e+01, 1.40861827e+01, 1.40861827e+01, 1.40861827e+01,\n",
       "        1.40861827e+01, 1.40861827e+01, 1.40861827e+01, 1.40861827e+01,\n",
       "        1.40861827e+01, 1.40861827e+01, 1.40861827e+01, 1.40861827e+01,\n",
       "        1.40861827e+01, 1.40861827e+01, 1.40861827e+01, 1.40861827e+01,\n",
       "        1.40861827e+01, 1.40861827e+01, 1.40861827e+01, 1.40861827e+01,\n",
       "        1.40861827e+01, 1.40861827e+01, 1.40861827e+01, 1.40861827e+01,\n",
       "        1.40861827e+01, 1.40861827e+01, 1.40861827e+01, 1.40861827e+01,\n",
       "        1.40861827e+01, 1.40861827e+01, 1.40861827e+01, 1.40861827e+01,\n",
       "        1.40861827e+01, 1.40861827e+01, 1.40861827e+01, 1.40861827e+01,\n",
       "        1.40861827e+01, 1.40861827e+01, 1.40861827e+01, 1.40861827e+01,\n",
       "        1.40861827e+01, 1.40861827e+01, 1.40861827e+01, 1.40861827e+01,\n",
       "        1.40861827e+01, 1.40861827e+01, 1.40861827e+01, 1.40861827e+01,\n",
       "        1.40861827e+01, 1.40861827e+01, 1.40861827e+01, 1.40861827e+01,\n",
       "        1.40861827e+01, 1.40861827e+01, 1.40861827e+01, 1.40861827e+01,\n",
       "        1.40861827e+01, 1.40861827e+01, 1.40861827e+01, 1.40861827e+01,\n",
       "        1.40861827e+01, 1.40861827e+01, 1.40861827e+01, 1.40861827e+01,\n",
       "        1.40861827e+01, 1.40861827e+01, 1.40861827e+01, 1.40861827e+01,\n",
       "        1.40861827e+01, 1.40861827e+01, 1.40861827e+01, 1.40861827e+01,\n",
       "        1.40861827e+01, 1.40861827e+01, 1.40861827e+01, 1.40861827e+01,\n",
       "        1.40861827e+01, 1.40861827e+01, 1.40861827e+01, 1.40861827e+01,\n",
       "        1.40861827e+01, 1.40861827e+01, 1.40861827e+01, 1.40861827e+01,\n",
       "        1.40861827e+01, 1.40861827e+01, 1.40861827e+01, 1.40861827e+01,\n",
       "        1.40861827e+01, 1.40861827e+01, 1.40861827e+01, 1.40861827e+01,\n",
       "        1.40861827e+01, 1.40861827e+01, 1.40861827e+01, 1.40861827e+01,\n",
       "        1.40861827e+01, 1.40861827e+01, 1.40861827e+01, 1.40861827e+01,\n",
       "        1.40861827e+01, 1.40861827e+01, 1.40861827e+01, 1.40861827e+01,\n",
       "        1.40861827e+01, 1.40861827e+01, 1.40861827e+01, 1.40861827e+01,\n",
       "        1.40861827e+01, 1.40861827e+01, 1.40861827e+01, 1.40861827e+01,\n",
       "        1.40861827e+01, 1.40861827e+01, 1.40861827e+01, 1.40861827e+01,\n",
       "        1.40861827e+01, 1.40861827e+01, 1.40861827e+01, 1.40861827e+01,\n",
       "        1.40861827e+01, 1.40861827e+01, 1.40861827e+01, 1.40861827e+01,\n",
       "        1.40861827e+01, 1.40861827e+01, 1.40861827e+01, 1.40861827e+01,\n",
       "        1.40861827e+01, 1.40861827e+01, 1.40861827e+01, 1.40861827e+01,\n",
       "        1.40861827e+01, 1.40861827e+01, 1.40861827e+01, 1.40861827e+01,\n",
       "        1.40861827e+01, 1.40861827e+01, 1.40861827e+01, 1.40861827e+01,\n",
       "        1.40861827e+01, 1.40861827e+01, 1.40861827e+01, 1.40861827e+01,\n",
       "        1.40861827e+01, 1.40861827e+01, 1.40861827e+01, 1.40861827e+01,\n",
       "        1.40861827e+01, 1.40861827e+01, 1.40861827e+01, 1.40861827e+01,\n",
       "        1.40861827e+01, 1.40861827e+01, 1.40861827e+01, 1.40861827e+01,\n",
       "        1.40861827e+01, 1.40861827e+01, 1.40861827e+01, 1.40861827e+01,\n",
       "        1.40861827e+01, 1.40861827e+01, 1.40861827e+01, 1.40861827e+01,\n",
       "        1.40861827e+01, 1.40861827e+01, 1.40861827e+01, 1.40861827e+01,\n",
       "        1.40861827e+01, 1.40861827e+01, 1.40861827e+01, 1.40861827e+01]))"
      ]
     },
     "execution_count": 339,
     "metadata": {},
     "output_type": "execute_result"
    }
   ],
   "source": [
    "param"
   ]
  },
  {
   "cell_type": "code",
   "execution_count": 340,
   "metadata": {},
   "outputs": [
    {
     "data": {
      "text/plain": [
       "<matplotlib.collections.PathCollection at 0x1237ff0d0>"
      ]
     },
     "execution_count": 340,
     "metadata": {},
     "output_type": "execute_result"
    },
    {
     "data": {
      "image/png": "[encoded data removed]",
      "text/plain": [
       "<Figure size 432x288 with 1 Axes>"
      ]
     },
     "metadata": {
      "needs_background": "light"
     },
     "output_type": "display_data"
    }
   ],
   "source": [
    "a=param[0]\n",
    "b=param[1]\n",
    "plt.scatter(a,b)\n"
   ]
  },
  {
   "cell_type": "code",
   "execution_count": 341,
   "metadata": {},
   "outputs": [
    {
     "data": {
      "text/plain": [
       "(array([883.,  17.,   1.,   0.,   5.,   4.,  36.,   0.,   7.,   1.,   6.,\n",
       "          6.,   7.,   2.,   8.,   5.,   5.,   1.,   4.,   2.]),\n",
       " array([2.95108299, 3.04683247, 3.14258195, 3.23833143, 3.33408091,\n",
       "        3.42983039, 3.52557988, 3.62132936, 3.71707884, 3.81282832,\n",
       "        3.9085778 , 4.00432728, 4.10007676, 4.19582624, 4.29157572,\n",
       "        4.3873252 , 4.48307468, 4.57882416, 4.67457364, 4.77032312,\n",
       "        4.8660726 ]),\n",
       " <a list of 20 Patch objects>)"
      ]
     },
     "execution_count": 341,
     "metadata": {},
     "output_type": "execute_result"
    },
    {
     "data": {
      "image/png": "[encoded data removed]",
      "text/plain": [
       "<Figure size 432x288 with 1 Axes>"
      ]
     },
     "metadata": {
      "needs_background": "light"
     },
     "output_type": "display_data"
    }
   ],
   "source": [
    "plt.hist(a,20 )"
   ]
  },
  {
   "cell_type": "code",
   "execution_count": 342,
   "metadata": {},
   "outputs": [
    {
     "data": {
      "text/plain": [
       "(array([ 29.,  13.,  11.,   4.,   5.,   0.,   2.,  18., 685., 211.,   0.,\n",
       "          3.,   0.,   1.,   2.,   1.,   8.,   0.,   3.,   4.]),\n",
       " array([1.19029208, 1.2805608 , 1.37082952, 1.46109824, 1.55136695,\n",
       "        1.64163567, 1.73190439, 1.82217311, 1.91244182, 2.00271054,\n",
       "        2.09297926, 2.18324797, 2.27351669, 2.36378541, 2.45405413,\n",
       "        2.54432284, 2.63459156, 2.72486028, 2.815129  , 2.90539771,\n",
       "        2.99566643]),\n",
       " <a list of 20 Patch objects>)"
      ]
     },
     "execution_count": 342,
     "metadata": {},
     "output_type": "execute_result"
    },
    {
     "data": {
      "image/png": "[encoded data removed]",
      "text/plain": [
       "<Figure size 432x288 with 1 Axes>"
      ]
     },
     "metadata": {
      "needs_background": "light"
     },
     "output_type": "display_data"
    }
   ],
   "source": [
    "plt.hist(b,20 )"
   ]
  },
  {
   "cell_type": "code",
   "execution_count": 390,
   "metadata": {},
   "outputs": [
    {
     "data": {
      "text/plain": [
       "(2.9987508953376594, 2.0334288554472137)"
      ]
     },
     "execution_count": 390,
     "metadata": {},
     "output_type": "execute_result"
    }
   ],
   "source": [
    "a_ini=np.random.uniform(2.95,3.005)\n",
    "b_ini=np.random.uniform(1.95,2.04)\n",
    "\n",
    "a_ini, b_ini"
   ]
  },
  {
   "cell_type": "code",
   "execution_count": 406,
   "metadata": {},
   "outputs": [],
   "source": [
    "param=montecarlo(a_ini, b_ini, file, 0.001, 2000)"
   ]
  },
  {
   "cell_type": "code",
   "execution_count": 407,
   "metadata": {},
   "outputs": [
    {
     "data": {
      "text/plain": [
       "<matplotlib.collections.PathCollection at 0x126444650>"
      ]
     },
     "execution_count": 407,
     "metadata": {},
     "output_type": "execute_result"
    },
    {
     "data": {
      "image/png": "[encoded data removed]",
      "text/plain": [
       "<Figure size 432x288 with 1 Axes>"
      ]
     },
     "metadata": {
      "needs_background": "light"
     },
     "output_type": "display_data"
    }
   ],
   "source": [
    "a=param[0]\n",
    "b=param[1]\n",
    "plt.scatter(a,b)"
   ]
  },
  {
   "cell_type": "code",
   "execution_count": 408,
   "metadata": {},
   "outputs": [
    {
     "data": {
      "text/plain": [
       "(array([   4.,    6.,   14.,    3.,    2.,   15.,    5.,    2.,    4.,\n",
       "          24.,    8.,   17.,    4.,    4.,   12.,   33.,    6.,   16.,\n",
       "           0., 1821.]),\n",
       " array([2.98528555, 2.98615456, 2.98702356, 2.98789257, 2.98876158,\n",
       "        2.98963058, 2.99049959, 2.9913686 , 2.9922376 , 2.99310661,\n",
       "        2.99397561, 2.99484462, 2.99571363, 2.99658263, 2.99745164,\n",
       "        2.99832065, 2.99918965, 3.00005866, 3.00092766, 3.00179667,\n",
       "        3.00266568]),\n",
       " <a list of 20 Patch objects>)"
      ]
     },
     "execution_count": 408,
     "metadata": {},
     "output_type": "execute_result"
    },
    {
     "data": {
      "image/png": "[encoded data removed]",
      "text/plain": [
       "<Figure size 432x288 with 1 Axes>"
      ]
     },
     "metadata": {
      "needs_background": "light"
     },
     "output_type": "display_data"
    }
   ],
   "source": [
    "plt.hist(a,20 )"
   ]
  },
  {
   "cell_type": "code",
   "execution_count": 409,
   "metadata": {},
   "outputs": [
    {
     "data": {
      "text/plain": [
       "(array([1822.,   31.,   15.,   21.,   12.,    9.,   19.,   10.,    2.,\n",
       "           7.,   13.,    8.,    2.,    2.,    3.,    4.,    5.,    9.,\n",
       "           3.,    3.]),\n",
       " array([1.99202005, 1.99409049, 1.99616093, 1.99823137, 2.00030181,\n",
       "        2.00237225, 2.00444269, 2.00651313, 2.00858357, 2.01065401,\n",
       "        2.01272445, 2.01479489, 2.01686533, 2.01893577, 2.02100621,\n",
       "        2.02307666, 2.0251471 , 2.02721754, 2.02928798, 2.03135842,\n",
       "        2.03342886]),\n",
       " <a list of 20 Patch objects>)"
      ]
     },
     "execution_count": 409,
     "metadata": {},
     "output_type": "execute_result"
    },
    {
     "data": {
      "image/png": "[encoded data removed]",
      "text/plain": [
       "<Figure size 432x288 with 1 Axes>"
      ]
     },
     "metadata": {
      "needs_background": "light"
     },
     "output_type": "display_data"
    }
   ],
   "source": [
    "plt.hist(b,20 )"
   ]
  },
  {
   "cell_type": "code",
   "execution_count": null,
   "metadata": {},
   "outputs": [],
   "source": []
  }
 ],
 "metadata": {
  "kernelspec": {
   "display_name": "Python 3",
   "language": "python",
   "name": "python3"
  },
  "language_info": {
   "codemirror_mode": {
    "name": "ipython",
    "version": 3
   },
   "file_extension": ".py",
   "mimetype": "text/x-python",
   "name": "python",
   "nbconvert_exporter": "python",
   "pygments_lexer": "ipython3",
   "version": "3.7.4"
  }
 },
 "nbformat": 4,
 "nbformat_minor": 4
}
